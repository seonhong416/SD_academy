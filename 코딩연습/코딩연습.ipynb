{
  "nbformat": 4,
  "nbformat_minor": 0,
  "metadata": {
    "colab": {
      "name": "코딩연습.ipynb",
      "provenance": [],
      "collapsed_sections": []
    },
    "kernelspec": {
      "name": "python3",
      "display_name": "Python 3"
    },
    "language_info": {
      "name": "python"
    }
  },
  "cells": [
    {
      "cell_type": "markdown",
      "metadata": {
        "id": "j77Z-RDcgQuL"
      },
      "source": [
        "# 배스킨라빈스 31게임.\n",
        "<게임규칙>\n",
        "게임의 참여자들은 차례를 정해 1부터 31까지의 수를 순차적으로 부른다. 한번에 1~3개까지 수를 연달아 부를 수 있으며, 마지막 31을 부른 사람이 진다.\n",
        "- 컴퓨터가 무조건 먼저 시작하고,1P는 무조건 2번째로 말한다.컴퓨터가 무조건 이기게 만들어라.\n",
        "- <힌트 1> 4n-2라는 공식을 사용하면 됩니다.\n",
        "- <힌트 2>이 게임은 31을 부르면 지는 게임이니 30을 부르면 이깁니다.\n"
      ]
    },
    {
      "cell_type": "code",
      "metadata": {
        "colab": {
          "base_uri": "https://localhost:8080/"
        },
        "id": "lc1UTEZ7hVw7",
        "outputId": "2dda18f0-e68e-43dc-c1e6-b8fd361259ac"
      },
      "source": [
        "a = 2\n",
        "while a < 30 : \n",
        "  print('숫자를 잘못 입력하면 게임이 종료됩니다.')\n",
        "  print('컴퓨터 : ', [1, 2])\n",
        "  for turn in range(1, 31) :\n",
        "    n = input('컴퓨터 다음으로 이어지는 숫자를 연속으로 최대 3개 입력하세요(띄워쓰기로 구별할 것)')\n",
        "    n = n.split()\n",
        "    if len(n) == 1 :\n",
        "      if int(n[0]) - 1 != a :\n",
        "        print('잘못된 숫자를 입력했습니다.')\n",
        "        break\n",
        "    elif len(n) == 2 :\n",
        "      if int(n[0]) - 1 != a :\n",
        "        print('잘못된 숫자를 입력했습니다.')\n",
        "        break\n",
        "      if int(n[1]) - 2 != a :\n",
        "        print('잘못된 숫자를 입력했습니다.')\n",
        "        break\n",
        "    elif len(n) == 3 :\n",
        "      if int(n[0]) - 1 != a :\n",
        "        print('잘못된 숫자를 입력했습니다.')\n",
        "        break\n",
        "      if int(n[1]) - 2 != a :\n",
        "        print('잘못된 숫자를 입력했습니다.')\n",
        "        break\n",
        "      if int(n[2]) - 3 != a :\n",
        "        print('잘못된 숫자를 입력했습니다.')\n",
        "        break\n",
        "    else :\n",
        "      print('잘못된 숫자를 입력했습니다')\n",
        "      break   \n",
        "    print('사람 : ', n )\n",
        "    if len(n) == 1 :\n",
        "      b = list(range(4*turn, 4*turn + 3))\n",
        "      print('컴퓨터 : ', list(range(4*turn, 4*turn + 3)))\n",
        "    elif len(n) == 2 :\n",
        "      b = list(range(4*turn + 1, 4*turn + 3))\n",
        "      print('컴퓨터 : ', list(range(4*turn + 1, 4*turn + 3)))\n",
        "    elif len(n) == 3 :\n",
        "      b = list(range(4*turn + 2, 4*turn + 3))\n",
        "      print('컴퓨터 : ', list(range(4*turn + 2, 4*turn + 3)))\n",
        "    a = b[-1]\n",
        "    if a == 30 : \n",
        "      break\n",
        "  print('게임이 종료되었습니다.')\n",
        "  break"
      ],
      "execution_count": null,
      "outputs": [
        {
          "output_type": "stream",
          "text": [
            "숫자를 잘못 입력하면 게임이 종료됩니다.\n",
            "컴퓨터 :  [1, 2]\n",
            "컴퓨터 다음으로 이어지는 숫자를 연속으로 최대 3개 입력하세요(띄워쓰기로 구별할 것)3\n",
            "사람 :  ['3']\n",
            "컴퓨터 :  [4, 5, 6]\n",
            "컴퓨터 다음으로 이어지는 숫자를 연속으로 최대 3개 입력하세요(띄워쓰기로 구별할 것)7\n",
            "사람 :  ['7']\n",
            "컴퓨터 :  [8, 9, 10]\n",
            "컴퓨터 다음으로 이어지는 숫자를 연속으로 최대 3개 입력하세요(띄워쓰기로 구별할 것)11\n",
            "사람 :  ['11']\n",
            "컴퓨터 :  [12, 13, 14]\n",
            "컴퓨터 다음으로 이어지는 숫자를 연속으로 최대 3개 입력하세요(띄워쓰기로 구별할 것)15\n",
            "사람 :  ['15']\n",
            "컴퓨터 :  [16, 17, 18]\n",
            "컴퓨터 다음으로 이어지는 숫자를 연속으로 최대 3개 입력하세요(띄워쓰기로 구별할 것)19\n",
            "사람 :  ['19']\n",
            "컴퓨터 :  [20, 21, 22]\n",
            "컴퓨터 다음으로 이어지는 숫자를 연속으로 최대 3개 입력하세요(띄워쓰기로 구별할 것)23\n",
            "사람 :  ['23']\n",
            "컴퓨터 :  [24, 25, 26]\n",
            "컴퓨터 다음으로 이어지는 숫자를 연속으로 최대 3개 입력하세요(띄워쓰기로 구별할 것)27\n",
            "사람 :  ['27']\n",
            "컴퓨터 :  [28, 29, 30]\n",
            "게임이 종료되었습니다.\n"
          ],
          "name": "stdout"
        }
      ]
    },
    {
      "cell_type": "code",
      "metadata": {
        "id": "s33DccSghbhD"
      },
      "source": [
        ""
      ],
      "execution_count": null,
      "outputs": []
    }
  ]
}