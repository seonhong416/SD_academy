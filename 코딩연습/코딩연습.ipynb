{
  "nbformat": 4,
  "nbformat_minor": 0,
  "metadata": {
    "colab": {
      "name": "코딩연습.ipynb",
      "provenance": [],
      "collapsed_sections": []
    },
    "kernelspec": {
      "name": "python3",
      "display_name": "Python 3"
    },
    "language_info": {
      "name": "python"
    }
  },
  "cells": [
    {
      "cell_type": "markdown",
      "metadata": {
        "id": "j77Z-RDcgQuL"
      },
      "source": [
        "# 배스킨라빈스 31게임.\n",
        "<게임규칙>\n",
        "게임의 참여자들은 차례를 정해 1부터 31까지의 수를 순차적으로 부른다. 한번에 1~3개까지 수를 연달아 부를 수 있으며, 마지막 31을 부른 사람이 진다.\n",
        "- 컴퓨터가 무조건 먼저 시작하고,1P는 무조건 2번째로 말한다.컴퓨터가 무조건 이기게 만들어라.\n",
        "- <힌트 1> 4n-2라는 공식을 사용하면 됩니다.\n",
        "- <힌트 2>이 게임은 31을 부르면 지는 게임이니 30을 부르면 이깁니다.\n"
      ]
    },
    {
      "cell_type": "code",
      "metadata": {
        "colab": {
          "base_uri": "https://localhost:8080/"
        },
        "id": "lc1UTEZ7hVw7",
        "outputId": "85ad7765-5d63-4eca-a548-372364fcc3e6"
      },
      "source": [
        "a = 2\n",
        "while a < 30 : \n",
        "  print('문자를 입력하거나 숫자를 잘못 입력하면 게임이 종료됩니다.')\n",
        "  print('컴퓨터 : ', [1, 2])\n",
        "  for turn in range(1, 31) :\n",
        "    n = input('컴퓨터 다음으로 이어지는 숫자를 연속으로 최대 3개 입력하세요(띄워쓰기로 구별할 것)')\n",
        "    n = n.split()\n",
        "    if len(n) == 1 :\n",
        "      try : int(n[0]) == True\n",
        "      except :\n",
        "        print('숫자가 아닙니다')\n",
        "        break\n",
        "      if int(n[0]) - 1 != a :\n",
        "        print('잘못된 숫자를 입력했습니다.')\n",
        "        break\n",
        "    elif len(n) == 2 :\n",
        "      try : int(n[0]) == True\n",
        "      except :\n",
        "        print('숫자가 아닙니다')\n",
        "        break\n",
        "      try : int(n[1]) == True\n",
        "      except :\n",
        "        print('숫자가 아닙니다')\n",
        "        break  \n",
        "      if int(n[0]) - 1 != a :\n",
        "        print('잘못된 숫자를 입력했습니다.')\n",
        "        break\n",
        "      if int(n[1]) - 2 != a :\n",
        "        print('잘못된 숫자를 입력했습니다.')\n",
        "        break\n",
        "    elif len(n) == 3 :\n",
        "      try : int(n[0]) == True\n",
        "      except :\n",
        "        print('숫자가 아닙니다')\n",
        "        break\n",
        "      try : int(n[1]) == True\n",
        "      except :\n",
        "        print('숫자가 아닙니다')\n",
        "        break  \n",
        "      try : int(n[2]) == True\n",
        "      except :\n",
        "        print('숫자가 아닙니다')\n",
        "        break\n",
        "      if int(n[0]) - 1 != a :\n",
        "        print('잘못된 숫자를 입력했습니다.')\n",
        "        break\n",
        "      if int(n[1]) - 2 != a :\n",
        "        print('잘못된 숫자를 입력했습니다.')\n",
        "        break\n",
        "      if int(n[2]) - 3 != a :\n",
        "        print('잘못된 숫자를 입력했습니다.')\n",
        "        break\n",
        "    else :\n",
        "      print('잘못된 숫자를 입력했습니다')\n",
        "      break   \n",
        "    print('사람 : ', n )\n",
        "    if len(n) == 1 :\n",
        "      b = list(range(4*turn, 4*turn + 3))\n",
        "      print('컴퓨터 : ', list(range(4*turn, 4*turn + 3)))\n",
        "    elif len(n) == 2 :\n",
        "      b = list(range(4*turn + 1, 4*turn + 3))\n",
        "      print('컴퓨터 : ', list(range(4*turn + 1, 4*turn + 3)))\n",
        "    elif len(n) == 3 :\n",
        "      b = list(range(4*turn + 2, 4*turn + 3))\n",
        "      print('컴퓨터 : ', list(range(4*turn + 2, 4*turn + 3)))\n",
        "    a = b[-1]\n",
        "    if a == 30 : \n",
        "      break\n",
        "  print('게임이 종료되었습니다.')\n",
        "  break"
      ],
      "execution_count": null,
      "outputs": [
        {
          "output_type": "stream",
          "text": [
            "숫자를 잘못 입력하면 게임이 종료됩니다.\n",
            "컴퓨터 :  [1, 2]\n",
            "컴퓨터 다음으로 이어지는 숫자를 연속으로 최대 3개 입력하세요(띄워쓰기로 구별할 것)3 4\n",
            "사람 :  ['3', '4']\n",
            "컴퓨터 :  [5, 6]\n",
            "컴퓨터 다음으로 이어지는 숫자를 연속으로 최대 3개 입력하세요(띄워쓰기로 구별할 것)7\n",
            "사람 :  ['7']\n",
            "컴퓨터 :  [8, 9, 10]\n",
            "컴퓨터 다음으로 이어지는 숫자를 연속으로 최대 3개 입력하세요(띄워쓰기로 구별할 것)11\n",
            "사람 :  ['11']\n",
            "컴퓨터 :  [12, 13, 14]\n",
            "컴퓨터 다음으로 이어지는 숫자를 연속으로 최대 3개 입력하세요(띄워쓰기로 구별할 것)15\n",
            "사람 :  ['15']\n",
            "컴퓨터 :  [16, 17, 18]\n",
            "컴퓨터 다음으로 이어지는 숫자를 연속으로 최대 3개 입력하세요(띄워쓰기로 구별할 것)19\n",
            "사람 :  ['19']\n",
            "컴퓨터 :  [20, 21, 22]\n",
            "컴퓨터 다음으로 이어지는 숫자를 연속으로 최대 3개 입력하세요(띄워쓰기로 구별할 것)a 24 27\n",
            "숫자가 아닙니다\n",
            "게임이 종료되었습니다.\n"
          ],
          "name": "stdout"
        }
      ]
    },
    {
      "cell_type": "code",
      "metadata": {
        "id": "s33DccSghbhD"
      },
      "source": [
        "\n",
        "def icecream(start) : \n",
        "  a = 2\n",
        "  print('문자를 입력하거나 숫자를 잘못 입력하면 게임이 종료됩니다.')\n",
        "  print('컴퓨터 : ', [1, 2])\n",
        "  for turn in range(1, 31) :\n",
        "    n = input('컴퓨터 다음으로 이어지는 숫자를 연속으로 최대 3개 입력하세요(띄워쓰기로 구별할 것)')\n",
        "    n = n.split()\n",
        "    if len(n) == 1 :\n",
        "      try : int(n[0]) == True\n",
        "      except :\n",
        "        print('숫자가 아닙니다')\n",
        "        break\n",
        "      if int(n[0]) - 1 != a :\n",
        "        print('잘못된 숫자를 입력했습니다.')\n",
        "        break\n",
        "    elif len(n) == 2 :\n",
        "      try : int(n[0]) == True\n",
        "      except :\n",
        "        print('숫자가 아닙니다')\n",
        "        break\n",
        "      try : int(n[1]) == True\n",
        "      except :\n",
        "        print('숫자가 아닙니다')\n",
        "        break  \n",
        "      if int(n[0]) - 1 != a :\n",
        "        print('잘못된 숫자를 입력했습니다.')\n",
        "        break\n",
        "      if int(n[1]) - 2 != a :\n",
        "        print('잘못된 숫자를 입력했습니다.')\n",
        "        break\n",
        "    elif len(n) == 3 :\n",
        "      try : int(n[0]) == True\n",
        "      except :\n",
        "        print('숫자가 아닙니다')\n",
        "        break\n",
        "      try : int(n[1]) == True\n",
        "      except :\n",
        "        print('숫자가 아닙니다')\n",
        "        break  \n",
        "      try : int(n[2]) == True\n",
        "      except :\n",
        "        print('숫자가 아닙니다')\n",
        "        break\n",
        "      if int(n[0]) - 1 != a :\n",
        "        print('잘못된 숫자를 입력했습니다.')\n",
        "        break\n",
        "      if int(n[1]) - 2 != a :\n",
        "        print('잘못된 숫자를 입력했습니다.')\n",
        "        break\n",
        "      if int(n[2]) - 3 != a :\n",
        "        print('잘못된 숫자를 입력했습니다.')\n",
        "        break\n",
        "    else :\n",
        "      print('잘못된 숫자를 입력했습니다')\n",
        "      break   \n",
        "    print('사람 : ', n )\n",
        "    if len(n) == 1 :\n",
        "      b = list(range(4*turn, 4*turn + 3))\n",
        "      print('컴퓨터 : ', list(range(4*turn, 4*turn + 3)))\n",
        "    elif len(n) == 2 :\n",
        "      b = list(range(4*turn + 1, 4*turn + 3))\n",
        "      print('컴퓨터 : ', list(range(4*turn + 1, 4*turn + 3)))\n",
        "    elif len(n) == 3 :\n",
        "      b = list(range(4*turn + 2, 4*turn + 3))\n",
        "      print('컴퓨터 : ', list(range(4*turn + 2, 4*turn + 3)))\n",
        "    a = b[-1]\n",
        "    if a == 30 : \n",
        "      break\n",
        "  print('게임이 종료되었습니다.')\n",
        "  break"
      ],
      "execution_count": null,
      "outputs": []
    },
    {
      "cell_type": "code",
      "metadata": {
        "colab": {
          "base_uri": "https://localhost:8080/"
        },
        "id": "Fg118HfmtFn-",
        "outputId": "b4b287b5-3207-40d5-e7d6-4182dc281223"
      },
      "source": [
        "# 2번\n",
        "a = 2\n",
        "print('잘못된 문자를 입력하면 게임이 종료됩니다. y 와 n 둘중에 하나만 입력해주세요!')\n",
        "print('컴퓨터 : 1, 2')\n",
        "while a < 30 : \n",
        "  a = a+1\n",
        "  print('사람 : ', a)\n",
        "  \n",
        "  for turn in range(2) :\n",
        "    b = a + turn + 1\n",
        "    n = input('다음 숫자 {0}을 입력하시겠습니까?(y, n)'.format(b))\n",
        "    if n == 'y' :\n",
        "      print('사람 : ', b)\n",
        "      c = 1\n",
        "    elif n == 'n' :\n",
        "      b = b-1\n",
        "      c = 1\n",
        "      break\n",
        "    else : \n",
        "      c = 0\n",
        "      print('잘못된 문자를 입력했습니다. 게임이 종료됩니다.')\n",
        "      break\n",
        "  if c == 1 :\n",
        "    if b - a == 0 :\n",
        "      print('컴퓨터 : ', b+1, b+2, b+3) \n",
        "      b = b+3\n",
        "    elif b - a == 1 :\n",
        "      print('컴퓨터 : ', b+1, b+2)\n",
        "      b = b+2\n",
        "    elif b - a == 2 :\n",
        "      print('컴퓨터 : ', b + 1)  \n",
        "      b = b+1\n",
        "    a = b \n",
        "  else :\n",
        "    print('게임이 종료되었습니다.')\n",
        "    break\n",
        "    \n",
        "  if a == 30 :\n",
        "    print('사람 : 31')\n",
        "    print('게임에서 패배하였습니다.')\n",
        "    print('게임이 종료되었습니다.')"
      ],
      "execution_count": null,
      "outputs": [
        {
          "output_type": "stream",
          "text": [
            "잘못된 문자를 입력하면 게임이 종료됩니다. y 와 n 둘중에 하나만 입력해주세요!\n",
            "컴퓨터 : 1, 2\n",
            "사람 :  3\n",
            "다음 숫자 4을 입력하시겠습니까?(y, n)n\n",
            "컴퓨터 :  4 5 6\n",
            "사람 :  7\n",
            "다음 숫자 8을 입력하시겠습니까?(y, n)n\n",
            "컴퓨터 :  8 9 10\n",
            "사람 :  11\n",
            "다음 숫자 12을 입력하시겠습니까?(y, n)n\n",
            "컴퓨터 :  12 13 14\n",
            "사람 :  15\n",
            "다음 숫자 16을 입력하시겠습니까?(y, n)n\n",
            "컴퓨터 :  16 17 18\n",
            "사람 :  19\n",
            "다음 숫자 20을 입력하시겠습니까?(y, n)y\n",
            "사람 :  20\n",
            "다음 숫자 21을 입력하시겠습니까?(y, n)n\n",
            "컴퓨터 :  21 22\n",
            "사람 :  23\n",
            "다음 숫자 24을 입력하시겠습니까?(y, n)n\n",
            "컴퓨터 :  24 25 26\n",
            "사람 :  27\n",
            "다음 숫자 28을 입력하시겠습니까?(y, n)n\n",
            "컴퓨터 :  28 29 30\n",
            "사람 : 31\n",
            "게임에서 패배하였습니다.\n",
            "게임이 종료되었습니다.\n"
          ],
          "name": "stdout"
        }
      ]
    },
    {
      "cell_type": "code",
      "metadata": {
        "id": "iB3vIWgi-J3B"
      },
      "source": [
        "# 4번\n",
        "class cal :\n",
        "\n",
        "  def __init__(self, a, b) :\n",
        "    self.a = a\n",
        "    self.b = b\n",
        "\n",
        "  def plus(self) :\n",
        "    c = self.a + self.b\n",
        "    return c\n",
        "  \n",
        "  def minus(self) :\n",
        "    c = self.a - self.b\n",
        "    return c\n",
        "  \n",
        "  def multiply(self) :\n",
        "    c = self.a * self.b\n",
        "    return c\n",
        "  \n",
        "  def divide(self) :\n",
        "    c = self.a / self.b\n",
        "    return c"
      ],
      "execution_count": null,
      "outputs": []
    },
    {
      "cell_type": "code",
      "metadata": {
        "colab": {
          "base_uri": "https://localhost:8080/"
        },
        "id": "-J0yoYly0t7Z",
        "outputId": "c207390c-30b7-4e7e-c55a-adb7c6214899"
      },
      "source": [
        "a = cal(3, 6)\n",
        "print(a.plus(), a.minus(), a.multiply(), a.divide())"
      ],
      "execution_count": null,
      "outputs": [
        {
          "output_type": "stream",
          "text": [
            "9 -3 18 0.5\n"
          ],
          "name": "stdout"
        }
      ]
    },
    {
      "cell_type": "code",
      "metadata": {
        "id": "mKbFEi_i0z6_"
      },
      "source": [
        "# 1번\n",
        "import numpy as np\n",
        "class dice :\n",
        "  def roll(a = None) :\n",
        "    return np.random.choice(range(1,7), 1)[0]"
      ],
      "execution_count": 22,
      "outputs": []
    },
    {
      "cell_type": "code",
      "metadata": {
        "colab": {
          "base_uri": "https://localhost:8080/"
        },
        "id": "bKUvtE_KEvGn",
        "outputId": "9b48af92-95cc-488a-ebd9-1f13e2c89a23"
      },
      "source": [
        "dice.roll()"
      ],
      "execution_count": 31,
      "outputs": [
        {
          "output_type": "execute_result",
          "data": {
            "text/plain": [
              "5"
            ]
          },
          "metadata": {
            "tags": []
          },
          "execution_count": 31
        }
      ]
    },
    {
      "cell_type": "code",
      "metadata": {
        "id": "9pev08aVE0YV"
      },
      "source": [
        "# 3번\n",
        "\n",
        "def VPS_test(a) :\n",
        "  a_list = []\n",
        "  PS = []\n",
        "  left = []\n",
        "  right = []\n",
        "  for i in range(len(a)) :\n",
        "    a_list.append(a[i])\n",
        "  for i in a_list :\n",
        "    if i == '(' :\n",
        "      PS.append(i)\n",
        "    elif i == ')' :\n",
        "      PS.append(i)\n",
        "    else :\n",
        "      pass\n",
        "  for i in PS :\n",
        "    if i == '(' :\n",
        "      left.append(i)\n",
        "    else :\n",
        "      right.append(i)\n",
        "  if len(left) != len(right) :\n",
        "    c = 'NO'\n",
        "  elif PS[0] == ')' :\n",
        "    c = 'NO'\n",
        "  elif PS[-1] == '(' :\n",
        "    c = 'NO'\n",
        "  elif len(PS) % 2 == 1 :\n",
        "    c = 'NO'\n",
        "  else :\n",
        "    c = 'YES'\n",
        "  return c"
      ],
      "execution_count": 57,
      "outputs": []
    },
    {
      "cell_type": "code",
      "metadata": {
        "colab": {
          "base_uri": "https://localhost:8080/",
          "height": 34
        },
        "id": "HcZXMpPCH0nn",
        "outputId": "ebe6a1a1-69e1-4d61-835b-88a5fa03602d"
      },
      "source": [
        "VPS_test('')"
      ],
      "execution_count": 58,
      "outputs": [
        {
          "output_type": "execute_result",
          "data": {
            "application/vnd.google.colaboratory.intrinsic+json": {
              "type": "string"
            },
            "text/plain": [
              "'NO'"
            ]
          },
          "metadata": {
            "tags": []
          },
          "execution_count": 58
        }
      ]
    },
    {
      "cell_type": "code",
      "metadata": {
        "colab": {
          "base_uri": "https://localhost:8080/"
        },
        "id": "Um3pZFWXLUEm",
        "outputId": "83be6e84-6b0b-49fe-dc43-cf97aa66ba54"
      },
      "source": [
        "answer = np.random.choice(range(1, 51), 1)[0]\n",
        "print(answer)\n",
        "n = 1\n",
        "while n <= 5 :\n",
        "  a = int(input('1에서 50 사이의 숫자를 입력해주세요! 잘못된 숫자를 입력하면 게임이 종료됩니다!'))\n",
        "  if a < 1 or a > 50 :\n",
        "    print('잘못된 숫자를 입력하였습니다. 게임이 종료됩니다.')\n",
        "    break\n",
        "  if a == answer :\n",
        "    print('You Win!')\n",
        "    break\n",
        "  if n == 5 :\n",
        "    print('You Lose!')\n",
        "    break\n",
        "  if a > answer : \n",
        "    print('Down!')\n",
        "  elif a < answer : \n",
        "    print('UP!')\n",
        "  n+= 1\n",
        "  \n"
      ],
      "execution_count": 72,
      "outputs": [
        {
          "output_type": "stream",
          "text": [
            "47\n",
            "1에서 50 사이의 숫자를 입력해주세요! 잘못된 숫자를 입력하면 게임이 종료됩니다!5\n",
            "UP!\n",
            "1에서 50 사이의 숫자를 입력해주세요! 잘못된 숫자를 입력하면 게임이 종료됩니다!5\n",
            "UP!\n",
            "1에서 50 사이의 숫자를 입력해주세요! 잘못된 숫자를 입력하면 게임이 종료됩니다!5\n",
            "UP!\n",
            "1에서 50 사이의 숫자를 입력해주세요! 잘못된 숫자를 입력하면 게임이 종료됩니다!5\n",
            "UP!\n",
            "1에서 50 사이의 숫자를 입력해주세요! 잘못된 숫자를 입력하면 게임이 종료됩니다!47\n",
            "You Win!\n"
          ],
          "name": "stdout"
        }
      ]
    },
    {
      "cell_type": "code",
      "metadata": {
        "id": "SV8uatupIGQE"
      },
      "source": [
        ""
      ],
      "execution_count": null,
      "outputs": []
    }
  ]
}