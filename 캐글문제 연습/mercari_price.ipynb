{
  "nbformat": 4,
  "nbformat_minor": 0,
  "metadata": {
    "colab": {
      "name": "mercari_price.ipynb",
      "provenance": [],
      "collapsed_sections": []
    },
    "kernelspec": {
      "display_name": "Python 3",
      "name": "python3"
    },
    "language_info": {
      "name": "python"
    }
  },
  "cells": [
    {
      "cell_type": "markdown",
      "metadata": {
        "id": "caPoRMdGXolo"
      },
      "source": [
        "train_id : 데이터_id\n",
        "\n",
        "name : 제품명\n",
        "\n",
        "category_name : 카테고리 명\n",
        "\n",
        "brand_name : 브랜드 이름\n",
        "\n",
        "shipping : 배송비 무료 여부.\n",
        "\n",
        "item_description : 제품에 대한 설명\n",
        "\n",
        "train_id or test_id - the id of the listing\n",
        "\n",
        "name - the title of the listing. Note that we have cleaned the data to remove text that look like prices (e.g. $20) to avoid leakage. These removed prices are represented as [rm]\n",
        "\n",
        "item_condition_id - the condition of the items provided by the seller\n",
        "\n",
        "category_name - category of the listing\n",
        "\n",
        "brand_name\n",
        "\n",
        "price - the price that the item was sold for. This is the target variable that you will predict. The unit is USD. This column doesn't exist in test.tsv since that is what you will predict.\n",
        "\n",
        "shipping - 1 if shipping fee is paid by seller and 0 by buyer\n",
        "\n",
        "item_description - the full description of the item. Note that we have cleaned the data to remove text that look like prices (e.g. $20) to avoid leakage. These removed prices are represented as [rm]"
      ]
    },
    {
      "cell_type": "code",
      "metadata": {
        "id": "bqdPa7m7GHzS"
      },
      "source": [
        "from sklearn.linear_model import Ridge , LogisticRegression\n",
        "from sklearn.model_selection import train_test_split , cross_val_score\n",
        "from sklearn.feature_extraction.text import CountVectorizer , TfidfVectorizer\n",
        "import pandas as pd\n",
        "import numpy as np\n",
        "import matplotlib.pyplot as plt\n",
        "import seaborn as sns"
      ],
      "execution_count": null,
      "outputs": []
    },
    {
      "cell_type": "code",
      "metadata": {
        "id": "GXjXPTs0UkGJ"
      },
      "source": [
        "mercari = pd.read_csv('/content/drive/MyDrive/train.tsv', sep = '\\t')"
      ],
      "execution_count": null,
      "outputs": []
    },
    {
      "cell_type": "code",
      "metadata": {
        "colab": {
          "base_uri": "https://localhost:8080/",
          "height": 445
        },
        "id": "qDULJkb3Urz3",
        "outputId": "20b16ead-ff28-4d60-d5a0-749947b597b3"
      },
      "source": [
        "mercari.head()"
      ],
      "execution_count": null,
      "outputs": [
        {
          "output_type": "execute_result",
          "data": {
            "text/html": [
              "<div>\n",
              "<style scoped>\n",
              "    .dataframe tbody tr th:only-of-type {\n",
              "        vertical-align: middle;\n",
              "    }\n",
              "\n",
              "    .dataframe tbody tr th {\n",
              "        vertical-align: top;\n",
              "    }\n",
              "\n",
              "    .dataframe thead th {\n",
              "        text-align: right;\n",
              "    }\n",
              "</style>\n",
              "<table border=\"1\" class=\"dataframe\">\n",
              "  <thead>\n",
              "    <tr style=\"text-align: right;\">\n",
              "      <th></th>\n",
              "      <th>train_id</th>\n",
              "      <th>name</th>\n",
              "      <th>item_condition_id</th>\n",
              "      <th>category_name</th>\n",
              "      <th>brand_name</th>\n",
              "      <th>price</th>\n",
              "      <th>shipping</th>\n",
              "      <th>item_description</th>\n",
              "    </tr>\n",
              "  </thead>\n",
              "  <tbody>\n",
              "    <tr>\n",
              "      <th>0</th>\n",
              "      <td>0</td>\n",
              "      <td>MLB Cincinnati Reds T Shirt Size XL</td>\n",
              "      <td>3</td>\n",
              "      <td>Men/Tops/T-shirts</td>\n",
              "      <td>NaN</td>\n",
              "      <td>10.0</td>\n",
              "      <td>1</td>\n",
              "      <td>No description yet</td>\n",
              "    </tr>\n",
              "    <tr>\n",
              "      <th>1</th>\n",
              "      <td>1</td>\n",
              "      <td>Razer BlackWidow Chroma Keyboard</td>\n",
              "      <td>3</td>\n",
              "      <td>Electronics/Computers &amp; Tablets/Components &amp; P...</td>\n",
              "      <td>Razer</td>\n",
              "      <td>52.0</td>\n",
              "      <td>0</td>\n",
              "      <td>This keyboard is in great condition and works ...</td>\n",
              "    </tr>\n",
              "    <tr>\n",
              "      <th>2</th>\n",
              "      <td>2</td>\n",
              "      <td>AVA-VIV Blouse</td>\n",
              "      <td>1</td>\n",
              "      <td>Women/Tops &amp; Blouses/Blouse</td>\n",
              "      <td>Target</td>\n",
              "      <td>10.0</td>\n",
              "      <td>1</td>\n",
              "      <td>Adorable top with a hint of lace and a key hol...</td>\n",
              "    </tr>\n",
              "    <tr>\n",
              "      <th>3</th>\n",
              "      <td>3</td>\n",
              "      <td>Leather Horse Statues</td>\n",
              "      <td>1</td>\n",
              "      <td>Home/Home Décor/Home Décor Accents</td>\n",
              "      <td>NaN</td>\n",
              "      <td>35.0</td>\n",
              "      <td>1</td>\n",
              "      <td>New with tags. Leather horses. Retail for [rm]...</td>\n",
              "    </tr>\n",
              "    <tr>\n",
              "      <th>4</th>\n",
              "      <td>4</td>\n",
              "      <td>24K GOLD plated rose</td>\n",
              "      <td>1</td>\n",
              "      <td>Women/Jewelry/Necklaces</td>\n",
              "      <td>NaN</td>\n",
              "      <td>44.0</td>\n",
              "      <td>0</td>\n",
              "      <td>Complete with certificate of authenticity</td>\n",
              "    </tr>\n",
              "  </tbody>\n",
              "</table>\n",
              "</div>"
            ],
            "text/plain": [
              "   train_id  ...                                   item_description\n",
              "0         0  ...                                 No description yet\n",
              "1         1  ...  This keyboard is in great condition and works ...\n",
              "2         2  ...  Adorable top with a hint of lace and a key hol...\n",
              "3         3  ...  New with tags. Leather horses. Retail for [rm]...\n",
              "4         4  ...          Complete with certificate of authenticity\n",
              "\n",
              "[5 rows x 8 columns]"
            ]
          },
          "metadata": {
            "tags": []
          },
          "execution_count": 12
        }
      ]
    },
    {
      "cell_type": "code",
      "metadata": {
        "colab": {
          "base_uri": "https://localhost:8080/"
        },
        "id": "yxOXkgGqUt6_",
        "outputId": "97857452-1272-42a1-ff75-4cb3cc480294"
      },
      "source": [
        "mercari.info()"
      ],
      "execution_count": null,
      "outputs": [
        {
          "output_type": "stream",
          "text": [
            "<class 'pandas.core.frame.DataFrame'>\n",
            "RangeIndex: 1482535 entries, 0 to 1482534\n",
            "Data columns (total 8 columns):\n",
            " #   Column             Non-Null Count    Dtype  \n",
            "---  ------             --------------    -----  \n",
            " 0   train_id           1482535 non-null  int64  \n",
            " 1   name               1482535 non-null  object \n",
            " 2   item_condition_id  1482535 non-null  int64  \n",
            " 3   category_name      1476208 non-null  object \n",
            " 4   brand_name         849853 non-null   object \n",
            " 5   price              1482535 non-null  float64\n",
            " 6   shipping           1482535 non-null  int64  \n",
            " 7   item_description   1482531 non-null  object \n",
            "dtypes: float64(1), int64(3), object(4)\n",
            "memory usage: 90.5+ MB\n"
          ],
          "name": "stdout"
        }
      ]
    },
    {
      "cell_type": "code",
      "metadata": {
        "colab": {
          "base_uri": "https://localhost:8080/"
        },
        "id": "I5cO9GWJU0on",
        "outputId": "18a5e747-6148-456f-86fc-e75c971f9e33"
      },
      "source": [
        "mercari.isna().sum()"
      ],
      "execution_count": null,
      "outputs": [
        {
          "output_type": "execute_result",
          "data": {
            "text/plain": [
              "train_id                  0\n",
              "name                      0\n",
              "item_condition_id         0\n",
              "category_name          6327\n",
              "brand_name           632682\n",
              "price                     0\n",
              "shipping                  0\n",
              "item_description          4\n",
              "dtype: int64"
            ]
          },
          "metadata": {
            "tags": []
          },
          "execution_count": 14
        }
      ]
    },
    {
      "cell_type": "code",
      "metadata": {
        "colab": {
          "base_uri": "https://localhost:8080/"
        },
        "id": "BhV3jCViU3k3",
        "outputId": "513dee45-77bc-443a-e873-837853780e44"
      },
      "source": [
        "mercari.columns"
      ],
      "execution_count": null,
      "outputs": [
        {
          "output_type": "execute_result",
          "data": {
            "text/plain": [
              "Index(['train_id', 'name', 'item_condition_id', 'category_name', 'brand_name',\n",
              "       'price', 'shipping', 'item_description'],\n",
              "      dtype='object')"
            ]
          },
          "metadata": {
            "tags": []
          },
          "execution_count": 15
        }
      ]
    },
    {
      "cell_type": "markdown",
      "metadata": {
        "id": "WaRqrDeLW-q5"
      },
      "source": [
        "## Price"
      ]
    },
    {
      "cell_type": "code",
      "metadata": {
        "colab": {
          "base_uri": "https://localhost:8080/",
          "height": 353
        },
        "id": "BkvJqH7wVGSH",
        "outputId": "c217dfeb-49a2-4db2-ca1f-57a44512208a"
      },
      "source": [
        "sns.distplot(mercari['price'])"
      ],
      "execution_count": null,
      "outputs": [
        {
          "output_type": "stream",
          "text": [
            "/usr/local/lib/python3.7/dist-packages/seaborn/distributions.py:2557: FutureWarning: `distplot` is a deprecated function and will be removed in a future version. Please adapt your code to use either `displot` (a figure-level function with similar flexibility) or `histplot` (an axes-level function for histograms).\n",
            "  warnings.warn(msg, FutureWarning)\n"
          ],
          "name": "stderr"
        },
        {
          "output_type": "execute_result",
          "data": {
            "text/plain": [
              "<matplotlib.axes._subplots.AxesSubplot at 0x7fa0804f1d50>"
            ]
          },
          "metadata": {
            "tags": []
          },
          "execution_count": 16
        },
        {
          "output_type": "display_data",
          "data": {
            "image/png": "[encoded data removed]",
            "text/plain": [
              "<Figure size 432x288 with 1 Axes>"
            ]
          },
          "metadata": {
            "tags": [],
            "needs_background": "light"
          }
        }
      ]
    },
    {
      "cell_type": "code",
      "metadata": {
        "id": "4HvVJYl7VN4n"
      },
      "source": [
        "mercari['price'] = mercari['price'].apply(lambda x : np.log1p(x))"
      ],
      "execution_count": null,
      "outputs": []
    },
    {
      "cell_type": "code",
      "metadata": {
        "colab": {
          "base_uri": "https://localhost:8080/",
          "height": 353
        },
        "id": "zVeKdiC_VzF-",
        "outputId": "497fb220-e98f-4c98-d51b-eefff788c97d"
      },
      "source": [
        "sns.distplot(mercari['price'])"
      ],
      "execution_count": null,
      "outputs": [
        {
          "output_type": "stream",
          "text": [
            "/usr/local/lib/python3.7/dist-packages/seaborn/distributions.py:2557: FutureWarning: `distplot` is a deprecated function and will be removed in a future version. Please adapt your code to use either `displot` (a figure-level function with similar flexibility) or `histplot` (an axes-level function for histograms).\n",
            "  warnings.warn(msg, FutureWarning)\n"
          ],
          "name": "stderr"
        },
        {
          "output_type": "execute_result",
          "data": {
            "text/plain": [
              "<matplotlib.axes._subplots.AxesSubplot at 0x7fa0803f6950>"
            ]
          },
          "metadata": {
            "tags": []
          },
          "execution_count": 18
        },
        {
          "output_type": "display_data",
          "data": {
            "image/png": "[encoded data removed]",
            "text/plain": [
              "<Figure size 432x288 with 1 Axes>"
            ]
          },
          "metadata": {
            "tags": [],
            "needs_background": "light"
          }
        }
      ]
    },
    {
      "cell_type": "markdown",
      "metadata": {
        "id": "54YNZqvuW6Ty"
      },
      "source": [
        "## Shipping"
      ]
    },
    {
      "cell_type": "code",
      "metadata": {
        "colab": {
          "base_uri": "https://localhost:8080/",
          "height": 542
        },
        "id": "AoaA6TY8WCVJ",
        "outputId": "0889e707-018d-470a-b3ad-b1691ef521a0"
      },
      "source": [
        "import plotly.express as px\n",
        "px.pie(mercari, values = mercari.groupby('shipping')['name'].count(), names = list(set(mercari['shipping'].values)))\n"
      ],
      "execution_count": null,
      "outputs": [
        {
          "output_type": "display_data",
          "data": {
            "text/html": [
              "<html>\n",
              "<head><meta charset=\"utf-8\" /></head>\n",
              "<body>\n",
              "    <div>\n",
              "            <script src=\"https://cdnjs.cloudflare.com/ajax/libs/mathjax/2.7.5/MathJax.js?config=TeX-AMS-MML_SVG\"></script><script type=\"text/javascript\">if (window.MathJax) {MathJax.Hub.Config({SVG: {font: \"STIX-Web\"}});}</script>\n",
              "                <script type=\"text/javascript\">window.PlotlyConfig = {MathJaxConfig: 'local'};</script>\n",
              "        <script src=\"https://cdn.plot.ly/plotly-latest.min.js\"></script>    \n",
              "            <div id=\"ea07c887-fb4b-4366-99a8-634929126c11\" class=\"plotly-graph-div\" style=\"height:525px; width:100%;\"></div>\n",
              "            <script type=\"text/javascript\">\n",
              "                \n",
              "                    window.PLOTLYENV=window.PLOTLYENV || {};\n",
              "                    \n",
              "                if (document.getElementById(\"ea07c887-fb4b-4366-99a8-634929126c11\")) {\n",
              "                    Plotly.newPlot(\n",
              "                        'ea07c887-fb4b-4366-99a8-634929126c11',\n",
              "                        [{\"domain\": {\"x\": [0.0, 1.0], \"y\": [0.0, 1.0]}, \"hoverlabel\": {\"namelength\": 0}, \"hovertemplate\": \"label=%{label}<br>value=%{value}\", \"labels\": [0, 1], \"legendgroup\": \"\", \"name\": \"\", \"showlegend\": true, \"type\": \"pie\", \"values\": [819435, 663100]}],\n",
              "                        {\"legend\": {\"tracegroupgap\": 0}, \"margin\": {\"t\": 60}, \"template\": {\"data\": {\"bar\": [{\"error_x\": {\"color\": \"#2a3f5f\"}, \"error_y\": {\"color\": \"#2a3f5f\"}, \"marker\": {\"line\": {\"color\": \"#E5ECF6\", \"width\": 0.5}}, \"type\": \"bar\"}], \"barpolar\": [{\"marker\": {\"line\": {\"color\": \"#E5ECF6\", \"width\": 0.5}}, \"type\": \"barpolar\"}], \"carpet\": [{\"aaxis\": {\"endlinecolor\": \"#2a3f5f\", \"gridcolor\": \"white\", \"linecolor\": \"white\", \"minorgridcolor\": \"white\", \"startlinecolor\": \"#2a3f5f\"}, \"baxis\": {\"endlinecolor\": \"#2a3f5f\", \"gridcolor\": \"white\", \"linecolor\": \"white\", \"minorgridcolor\": \"white\", \"startlinecolor\": \"#2a3f5f\"}, \"type\": \"carpet\"}], \"choropleth\": [{\"colorbar\": {\"outlinewidth\": 0, \"ticks\": \"\"}, \"type\": \"choropleth\"}], \"contour\": [{\"colorbar\": {\"outlinewidth\": 0, \"ticks\": \"\"}, \"colorscale\": [[0.0, \"#0d0887\"], [0.1111111111111111, \"#46039f\"], [0.2222222222222222, \"#7201a8\"], [0.3333333333333333, \"#9c179e\"], [0.4444444444444444, \"#bd3786\"], [0.5555555555555556, \"#d8576b\"], [0.6666666666666666, \"#ed7953\"], [0.7777777777777778, \"#fb9f3a\"], [0.8888888888888888, \"#fdca26\"], [1.0, \"#f0f921\"]], \"type\": \"contour\"}], \"contourcarpet\": [{\"colorbar\": {\"outlinewidth\": 0, \"ticks\": \"\"}, \"type\": \"contourcarpet\"}], \"heatmap\": [{\"colorbar\": {\"outlinewidth\": 0, \"ticks\": \"\"}, \"colorscale\": [[0.0, \"#0d0887\"], [0.1111111111111111, \"#46039f\"], [0.2222222222222222, \"#7201a8\"], [0.3333333333333333, \"#9c179e\"], [0.4444444444444444, \"#bd3786\"], [0.5555555555555556, \"#d8576b\"], [0.6666666666666666, \"#ed7953\"], [0.7777777777777778, \"#fb9f3a\"], [0.8888888888888888, \"#fdca26\"], [1.0, \"#f0f921\"]], \"type\": \"heatmap\"}], \"heatmapgl\": [{\"colorbar\": {\"outlinewidth\": 0, \"ticks\": \"\"}, \"colorscale\": [[0.0, \"#0d0887\"], [0.1111111111111111, \"#46039f\"], [0.2222222222222222, \"#7201a8\"], [0.3333333333333333, \"#9c179e\"], [0.4444444444444444, \"#bd3786\"], [0.5555555555555556, \"#d8576b\"], [0.6666666666666666, \"#ed7953\"], [0.7777777777777778, \"#fb9f3a\"], [0.8888888888888888, \"#fdca26\"], [1.0, \"#f0f921\"]], \"type\": \"heatmapgl\"}], \"histogram\": [{\"marker\": {\"colorbar\": {\"outlinewidth\": 0, \"ticks\": \"\"}}, \"type\": \"histogram\"}], \"histogram2d\": [{\"colorbar\": {\"outlinewidth\": 0, \"ticks\": \"\"}, \"colorscale\": [[0.0, \"#0d0887\"], [0.1111111111111111, \"#46039f\"], [0.2222222222222222, \"#7201a8\"], [0.3333333333333333, \"#9c179e\"], [0.4444444444444444, \"#bd3786\"], [0.5555555555555556, \"#d8576b\"], [0.6666666666666666, \"#ed7953\"], [0.7777777777777778, \"#fb9f3a\"], [0.8888888888888888, \"#fdca26\"], [1.0, \"#f0f921\"]], \"type\": \"histogram2d\"}], \"histogram2dcontour\": [{\"colorbar\": {\"outlinewidth\": 0, \"ticks\": \"\"}, \"colorscale\": [[0.0, \"#0d0887\"], [0.1111111111111111, \"#46039f\"], [0.2222222222222222, \"#7201a8\"], [0.3333333333333333, \"#9c179e\"], [0.4444444444444444, \"#bd3786\"], [0.5555555555555556, \"#d8576b\"], [0.6666666666666666, \"#ed7953\"], [0.7777777777777778, \"#fb9f3a\"], [0.8888888888888888, \"#fdca26\"], [1.0, \"#f0f921\"]], \"type\": \"histogram2dcontour\"}], \"mesh3d\": [{\"colorbar\": {\"outlinewidth\": 0, \"ticks\": \"\"}, \"type\": \"mesh3d\"}], \"parcoords\": [{\"line\": {\"colorbar\": {\"outlinewidth\": 0, \"ticks\": \"\"}}, \"type\": \"parcoords\"}], \"pie\": [{\"automargin\": true, \"type\": \"pie\"}], \"scatter\": [{\"marker\": {\"colorbar\": {\"outlinewidth\": 0, \"ticks\": \"\"}}, \"type\": \"scatter\"}], \"scatter3d\": [{\"line\": {\"colorbar\": {\"outlinewidth\": 0, \"ticks\": \"\"}}, \"marker\": {\"colorbar\": {\"outlinewidth\": 0, \"ticks\": \"\"}}, \"type\": \"scatter3d\"}], \"scattercarpet\": [{\"marker\": {\"colorbar\": {\"outlinewidth\": 0, \"ticks\": \"\"}}, \"type\": \"scattercarpet\"}], \"scattergeo\": [{\"marker\": {\"colorbar\": {\"outlinewidth\": 0, \"ticks\": \"\"}}, \"type\": \"scattergeo\"}], \"scattergl\": [{\"marker\": {\"colorbar\": {\"outlinewidth\": 0, \"ticks\": \"\"}}, \"type\": \"scattergl\"}], \"scattermapbox\": [{\"marker\": {\"colorbar\": {\"outlinewidth\": 0, \"ticks\": \"\"}}, \"type\": \"scattermapbox\"}], \"scatterpolar\": [{\"marker\": {\"colorbar\": {\"outlinewidth\": 0, \"ticks\": \"\"}}, \"type\": \"scatterpolar\"}], \"scatterpolargl\": [{\"marker\": {\"colorbar\": {\"outlinewidth\": 0, \"ticks\": \"\"}}, \"type\": \"scatterpolargl\"}], \"scatterternary\": [{\"marker\": {\"colorbar\": {\"outlinewidth\": 0, \"ticks\": \"\"}}, \"type\": \"scatterternary\"}], \"surface\": [{\"colorbar\": {\"outlinewidth\": 0, \"ticks\": \"\"}, \"colorscale\": [[0.0, \"#0d0887\"], [0.1111111111111111, \"#46039f\"], [0.2222222222222222, \"#7201a8\"], [0.3333333333333333, \"#9c179e\"], [0.4444444444444444, \"#bd3786\"], [0.5555555555555556, \"#d8576b\"], [0.6666666666666666, \"#ed7953\"], [0.7777777777777778, \"#fb9f3a\"], [0.8888888888888888, \"#fdca26\"], [1.0, \"#f0f921\"]], \"type\": \"surface\"}], \"table\": [{\"cells\": {\"fill\": {\"color\": \"#EBF0F8\"}, \"line\": {\"color\": \"white\"}}, \"header\": {\"fill\": {\"color\": \"#C8D4E3\"}, \"line\": {\"color\": \"white\"}}, \"type\": \"table\"}]}, \"layout\": {\"annotationdefaults\": {\"arrowcolor\": \"#2a3f5f\", \"arrowhead\": 0, \"arrowwidth\": 1}, \"coloraxis\": {\"colorbar\": {\"outlinewidth\": 0, \"ticks\": \"\"}}, \"colorscale\": {\"diverging\": [[0, \"#8e0152\"], [0.1, \"#c51b7d\"], [0.2, \"#de77ae\"], [0.3, \"#f1b6da\"], [0.4, \"#fde0ef\"], [0.5, \"#f7f7f7\"], [0.6, \"#e6f5d0\"], [0.7, \"#b8e186\"], [0.8, \"#7fbc41\"], [0.9, \"#4d9221\"], [1, \"#276419\"]], \"sequential\": [[0.0, \"#0d0887\"], [0.1111111111111111, \"#46039f\"], [0.2222222222222222, \"#7201a8\"], [0.3333333333333333, \"#9c179e\"], [0.4444444444444444, \"#bd3786\"], [0.5555555555555556, \"#d8576b\"], [0.6666666666666666, \"#ed7953\"], [0.7777777777777778, \"#fb9f3a\"], [0.8888888888888888, \"#fdca26\"], [1.0, \"#f0f921\"]], \"sequentialminus\": [[0.0, \"#0d0887\"], [0.1111111111111111, \"#46039f\"], [0.2222222222222222, \"#7201a8\"], [0.3333333333333333, \"#9c179e\"], [0.4444444444444444, \"#bd3786\"], [0.5555555555555556, \"#d8576b\"], [0.6666666666666666, \"#ed7953\"], [0.7777777777777778, \"#fb9f3a\"], [0.8888888888888888, \"#fdca26\"], [1.0, \"#f0f921\"]]}, \"colorway\": [\"#636efa\", \"#EF553B\", \"#00cc96\", \"#ab63fa\", \"#FFA15A\", \"#19d3f3\", \"#FF6692\", \"#B6E880\", \"#FF97FF\", \"#FECB52\"], \"font\": {\"color\": \"#2a3f5f\"}, \"geo\": {\"bgcolor\": \"white\", \"lakecolor\": \"white\", \"landcolor\": \"#E5ECF6\", \"showlakes\": true, \"showland\": true, \"subunitcolor\": \"white\"}, \"hoverlabel\": {\"align\": \"left\"}, \"hovermode\": \"closest\", \"mapbox\": {\"style\": \"light\"}, \"paper_bgcolor\": \"white\", \"plot_bgcolor\": \"#E5ECF6\", \"polar\": {\"angularaxis\": {\"gridcolor\": \"white\", \"linecolor\": \"white\", \"ticks\": \"\"}, \"bgcolor\": \"#E5ECF6\", \"radialaxis\": {\"gridcolor\": \"white\", \"linecolor\": \"white\", \"ticks\": \"\"}}, \"scene\": {\"xaxis\": {\"backgroundcolor\": \"#E5ECF6\", \"gridcolor\": \"white\", \"gridwidth\": 2, \"linecolor\": \"white\", \"showbackground\": true, \"ticks\": \"\", \"zerolinecolor\": \"white\"}, \"yaxis\": {\"backgroundcolor\": \"#E5ECF6\", \"gridcolor\": \"white\", \"gridwidth\": 2, \"linecolor\": \"white\", \"showbackground\": true, \"ticks\": \"\", \"zerolinecolor\": \"white\"}, \"zaxis\": {\"backgroundcolor\": \"#E5ECF6\", \"gridcolor\": \"white\", \"gridwidth\": 2, \"linecolor\": \"white\", \"showbackground\": true, \"ticks\": \"\", \"zerolinecolor\": \"white\"}}, \"shapedefaults\": {\"line\": {\"color\": \"#2a3f5f\"}}, \"ternary\": {\"aaxis\": {\"gridcolor\": \"white\", \"linecolor\": \"white\", \"ticks\": \"\"}, \"baxis\": {\"gridcolor\": \"white\", \"linecolor\": \"white\", \"ticks\": \"\"}, \"bgcolor\": \"#E5ECF6\", \"caxis\": {\"gridcolor\": \"white\", \"linecolor\": \"white\", \"ticks\": \"\"}}, \"title\": {\"x\": 0.05}, \"xaxis\": {\"automargin\": true, \"gridcolor\": \"white\", \"linecolor\": \"white\", \"ticks\": \"\", \"title\": {\"standoff\": 15}, \"zerolinecolor\": \"white\", \"zerolinewidth\": 2}, \"yaxis\": {\"automargin\": true, \"gridcolor\": \"white\", \"linecolor\": \"white\", \"ticks\": \"\", \"title\": {\"standoff\": 15}, \"zerolinecolor\": \"white\", \"zerolinewidth\": 2}}}},\n",
              "                        {\"responsive\": true}\n",
              "                    ).then(function(){\n",
              "                            \n",
              "var gd = document.getElementById('ea07c887-fb4b-4366-99a8-634929126c11');\n",
              "var x = new MutationObserver(function (mutations, observer) {{\n",
              "        var display = window.getComputedStyle(gd).display;\n",
              "        if (!display || display === 'none') {{\n",
              "            console.log([gd, 'removed!']);\n",
              "            Plotly.purge(gd);\n",
              "            observer.disconnect();\n",
              "        }}\n",
              "}});\n",
              "\n",
              "// Listen for the removal of the full notebook cells\n",
              "var notebookContainer = gd.closest('#notebook-container');\n",
              "if (notebookContainer) {{\n",
              "    x.observe(notebookContainer, {childList: true});\n",
              "}}\n",
              "\n",
              "// Listen for the clearing of the current output cell\n",
              "var outputEl = gd.closest('.output');\n",
              "if (outputEl) {{\n",
              "    x.observe(outputEl, {childList: true});\n",
              "}}\n",
              "\n",
              "                        })\n",
              "                };\n",
              "                \n",
              "            </script>\n",
              "        </div>\n",
              "</body>\n",
              "</html>"
            ]
          },
          "metadata": {
            "tags": []
          }
        }
      ]
    },
    {
      "cell_type": "markdown",
      "metadata": {
        "id": "o_wx7VJCXxJf"
      },
      "source": [
        "## item_condition_id"
      ]
    },
    {
      "cell_type": "code",
      "metadata": {
        "colab": {
          "base_uri": "https://localhost:8080/",
          "height": 542
        },
        "id": "Q-40kKMbXJci",
        "outputId": "25be07d1-3fac-4404-a533-0c78ca3f8d5f"
      },
      "source": [
        "px.pie(mercari, values = mercari.groupby('item_condition_id')['name'].count(), names = list(set(mercari['item_condition_id'].values)))"
      ],
      "execution_count": null,
      "outputs": [
        {
          "output_type": "display_data",
          "data": {
            "text/html": [
              "<html>\n",
              "<head><meta charset=\"utf-8\" /></head>\n",
              "<body>\n",
              "    <div>\n",
              "            <script src=\"https://cdnjs.cloudflare.com/ajax/libs/mathjax/2.7.5/MathJax.js?config=TeX-AMS-MML_SVG\"></script><script type=\"text/javascript\">if (window.MathJax) {MathJax.Hub.Config({SVG: {font: \"STIX-Web\"}});}</script>\n",
              "                <script type=\"text/javascript\">window.PlotlyConfig = {MathJaxConfig: 'local'};</script>\n",
              "        <script src=\"https://cdn.plot.ly/plotly-latest.min.js\"></script>    \n",
              "            <div id=\"42073853-472e-4a06-840a-8a75437fad94\" class=\"plotly-graph-div\" style=\"height:525px; width:100%;\"></div>\n",
              "            <script type=\"text/javascript\">\n",
              "                \n",
              "                    window.PLOTLYENV=window.PLOTLYENV || {};\n",
              "                    \n",
              "                if (document.getElementById(\"42073853-472e-4a06-840a-8a75437fad94\")) {\n",
              "                    Plotly.newPlot(\n",
              "                        '42073853-472e-4a06-840a-8a75437fad94',\n",
              "                        [{\"domain\": {\"x\": [0.0, 1.0], \"y\": [0.0, 1.0]}, \"hoverlabel\": {\"namelength\": 0}, \"hovertemplate\": \"label=%{label}<br>value=%{value}\", \"labels\": [1, 2, 3, 4, 5], \"legendgroup\": \"\", \"name\": \"\", \"showlegend\": true, \"type\": \"pie\", \"values\": [640549, 375479, 432161, 31962, 2384]}],\n",
              "                        {\"legend\": {\"tracegroupgap\": 0}, \"margin\": {\"t\": 60}, \"template\": {\"data\": {\"bar\": [{\"error_x\": {\"color\": \"#2a3f5f\"}, \"error_y\": {\"color\": \"#2a3f5f\"}, \"marker\": {\"line\": {\"color\": \"#E5ECF6\", \"width\": 0.5}}, \"type\": \"bar\"}], \"barpolar\": [{\"marker\": {\"line\": {\"color\": \"#E5ECF6\", \"width\": 0.5}}, \"type\": \"barpolar\"}], \"carpet\": [{\"aaxis\": {\"endlinecolor\": \"#2a3f5f\", \"gridcolor\": \"white\", \"linecolor\": \"white\", \"minorgridcolor\": \"white\", \"startlinecolor\": \"#2a3f5f\"}, \"baxis\": {\"endlinecolor\": \"#2a3f5f\", \"gridcolor\": \"white\", \"linecolor\": \"white\", \"minorgridcolor\": \"white\", \"startlinecolor\": \"#2a3f5f\"}, \"type\": \"carpet\"}], \"choropleth\": [{\"colorbar\": {\"outlinewidth\": 0, \"ticks\": \"\"}, \"type\": \"choropleth\"}], \"contour\": [{\"colorbar\": {\"outlinewidth\": 0, \"ticks\": \"\"}, \"colorscale\": [[0.0, \"#0d0887\"], [0.1111111111111111, \"#46039f\"], [0.2222222222222222, \"#7201a8\"], [0.3333333333333333, \"#9c179e\"], [0.4444444444444444, \"#bd3786\"], [0.5555555555555556, \"#d8576b\"], [0.6666666666666666, \"#ed7953\"], [0.7777777777777778, \"#fb9f3a\"], [0.8888888888888888, \"#fdca26\"], [1.0, \"#f0f921\"]], \"type\": \"contour\"}], \"contourcarpet\": [{\"colorbar\": {\"outlinewidth\": 0, \"ticks\": \"\"}, \"type\": \"contourcarpet\"}], \"heatmap\": [{\"colorbar\": {\"outlinewidth\": 0, \"ticks\": \"\"}, \"colorscale\": [[0.0, \"#0d0887\"], [0.1111111111111111, \"#46039f\"], [0.2222222222222222, \"#7201a8\"], [0.3333333333333333, \"#9c179e\"], [0.4444444444444444, \"#bd3786\"], [0.5555555555555556, \"#d8576b\"], [0.6666666666666666, \"#ed7953\"], [0.7777777777777778, \"#fb9f3a\"], [0.8888888888888888, \"#fdca26\"], [1.0, \"#f0f921\"]], \"type\": \"heatmap\"}], \"heatmapgl\": [{\"colorbar\": {\"outlinewidth\": 0, \"ticks\": \"\"}, \"colorscale\": [[0.0, \"#0d0887\"], [0.1111111111111111, \"#46039f\"], [0.2222222222222222, \"#7201a8\"], [0.3333333333333333, \"#9c179e\"], [0.4444444444444444, \"#bd3786\"], [0.5555555555555556, \"#d8576b\"], [0.6666666666666666, \"#ed7953\"], [0.7777777777777778, \"#fb9f3a\"], [0.8888888888888888, \"#fdca26\"], [1.0, \"#f0f921\"]], \"type\": \"heatmapgl\"}], \"histogram\": [{\"marker\": {\"colorbar\": {\"outlinewidth\": 0, \"ticks\": \"\"}}, \"type\": \"histogram\"}], \"histogram2d\": [{\"colorbar\": {\"outlinewidth\": 0, \"ticks\": \"\"}, \"colorscale\": [[0.0, \"#0d0887\"], [0.1111111111111111, \"#46039f\"], [0.2222222222222222, \"#7201a8\"], [0.3333333333333333, \"#9c179e\"], [0.4444444444444444, \"#bd3786\"], [0.5555555555555556, \"#d8576b\"], [0.6666666666666666, \"#ed7953\"], [0.7777777777777778, \"#fb9f3a\"], [0.8888888888888888, \"#fdca26\"], [1.0, \"#f0f921\"]], \"type\": \"histogram2d\"}], \"histogram2dcontour\": [{\"colorbar\": {\"outlinewidth\": 0, \"ticks\": \"\"}, \"colorscale\": [[0.0, \"#0d0887\"], [0.1111111111111111, \"#46039f\"], [0.2222222222222222, \"#7201a8\"], [0.3333333333333333, \"#9c179e\"], [0.4444444444444444, \"#bd3786\"], [0.5555555555555556, \"#d8576b\"], [0.6666666666666666, \"#ed7953\"], [0.7777777777777778, \"#fb9f3a\"], [0.8888888888888888, \"#fdca26\"], [1.0, \"#f0f921\"]], \"type\": \"histogram2dcontour\"}], \"mesh3d\": [{\"colorbar\": {\"outlinewidth\": 0, \"ticks\": \"\"}, \"type\": \"mesh3d\"}], \"parcoords\": [{\"line\": {\"colorbar\": {\"outlinewidth\": 0, \"ticks\": \"\"}}, \"type\": \"parcoords\"}], \"pie\": [{\"automargin\": true, \"type\": \"pie\"}], \"scatter\": [{\"marker\": {\"colorbar\": {\"outlinewidth\": 0, \"ticks\": \"\"}}, \"type\": \"scatter\"}], \"scatter3d\": [{\"line\": {\"colorbar\": {\"outlinewidth\": 0, \"ticks\": \"\"}}, \"marker\": {\"colorbar\": {\"outlinewidth\": 0, \"ticks\": \"\"}}, \"type\": \"scatter3d\"}], \"scattercarpet\": [{\"marker\": {\"colorbar\": {\"outlinewidth\": 0, \"ticks\": \"\"}}, \"type\": \"scattercarpet\"}], \"scattergeo\": [{\"marker\": {\"colorbar\": {\"outlinewidth\": 0, \"ticks\": \"\"}}, \"type\": \"scattergeo\"}], \"scattergl\": [{\"marker\": {\"colorbar\": {\"outlinewidth\": 0, \"ticks\": \"\"}}, \"type\": \"scattergl\"}], \"scattermapbox\": [{\"marker\": {\"colorbar\": {\"outlinewidth\": 0, \"ticks\": \"\"}}, \"type\": \"scattermapbox\"}], \"scatterpolar\": [{\"marker\": {\"colorbar\": {\"outlinewidth\": 0, \"ticks\": \"\"}}, \"type\": \"scatterpolar\"}], \"scatterpolargl\": [{\"marker\": {\"colorbar\": {\"outlinewidth\": 0, \"ticks\": \"\"}}, \"type\": \"scatterpolargl\"}], \"scatterternary\": [{\"marker\": {\"colorbar\": {\"outlinewidth\": 0, \"ticks\": \"\"}}, \"type\": \"scatterternary\"}], \"surface\": [{\"colorbar\": {\"outlinewidth\": 0, \"ticks\": \"\"}, \"colorscale\": [[0.0, \"#0d0887\"], [0.1111111111111111, \"#46039f\"], [0.2222222222222222, \"#7201a8\"], [0.3333333333333333, \"#9c179e\"], [0.4444444444444444, \"#bd3786\"], [0.5555555555555556, \"#d8576b\"], [0.6666666666666666, \"#ed7953\"], [0.7777777777777778, \"#fb9f3a\"], [0.8888888888888888, \"#fdca26\"], [1.0, \"#f0f921\"]], \"type\": \"surface\"}], \"table\": [{\"cells\": {\"fill\": {\"color\": \"#EBF0F8\"}, \"line\": {\"color\": \"white\"}}, \"header\": {\"fill\": {\"color\": \"#C8D4E3\"}, \"line\": {\"color\": \"white\"}}, \"type\": \"table\"}]}, \"layout\": {\"annotationdefaults\": {\"arrowcolor\": \"#2a3f5f\", \"arrowhead\": 0, \"arrowwidth\": 1}, \"coloraxis\": {\"colorbar\": {\"outlinewidth\": 0, \"ticks\": \"\"}}, \"colorscale\": {\"diverging\": [[0, \"#8e0152\"], [0.1, \"#c51b7d\"], [0.2, \"#de77ae\"], [0.3, \"#f1b6da\"], [0.4, \"#fde0ef\"], [0.5, \"#f7f7f7\"], [0.6, \"#e6f5d0\"], [0.7, \"#b8e186\"], [0.8, \"#7fbc41\"], [0.9, \"#4d9221\"], [1, \"#276419\"]], \"sequential\": [[0.0, \"#0d0887\"], [0.1111111111111111, \"#46039f\"], [0.2222222222222222, \"#7201a8\"], [0.3333333333333333, \"#9c179e\"], [0.4444444444444444, \"#bd3786\"], [0.5555555555555556, \"#d8576b\"], [0.6666666666666666, \"#ed7953\"], [0.7777777777777778, \"#fb9f3a\"], [0.8888888888888888, \"#fdca26\"], [1.0, \"#f0f921\"]], \"sequentialminus\": [[0.0, \"#0d0887\"], [0.1111111111111111, \"#46039f\"], [0.2222222222222222, \"#7201a8\"], [0.3333333333333333, \"#9c179e\"], [0.4444444444444444, \"#bd3786\"], [0.5555555555555556, \"#d8576b\"], [0.6666666666666666, \"#ed7953\"], [0.7777777777777778, \"#fb9f3a\"], [0.8888888888888888, \"#fdca26\"], [1.0, \"#f0f921\"]]}, \"colorway\": [\"#636efa\", \"#EF553B\", \"#00cc96\", \"#ab63fa\", \"#FFA15A\", \"#19d3f3\", \"#FF6692\", \"#B6E880\", \"#FF97FF\", \"#FECB52\"], \"font\": {\"color\": \"#2a3f5f\"}, \"geo\": {\"bgcolor\": \"white\", \"lakecolor\": \"white\", \"landcolor\": \"#E5ECF6\", \"showlakes\": true, \"showland\": true, \"subunitcolor\": \"white\"}, \"hoverlabel\": {\"align\": \"left\"}, \"hovermode\": \"closest\", \"mapbox\": {\"style\": \"light\"}, \"paper_bgcolor\": \"white\", \"plot_bgcolor\": \"#E5ECF6\", \"polar\": {\"angularaxis\": {\"gridcolor\": \"white\", \"linecolor\": \"white\", \"ticks\": \"\"}, \"bgcolor\": \"#E5ECF6\", \"radialaxis\": {\"gridcolor\": \"white\", \"linecolor\": \"white\", \"ticks\": \"\"}}, \"scene\": {\"xaxis\": {\"backgroundcolor\": \"#E5ECF6\", \"gridcolor\": \"white\", \"gridwidth\": 2, \"linecolor\": \"white\", \"showbackground\": true, \"ticks\": \"\", \"zerolinecolor\": \"white\"}, \"yaxis\": {\"backgroundcolor\": \"#E5ECF6\", \"gridcolor\": \"white\", \"gridwidth\": 2, \"linecolor\": \"white\", \"showbackground\": true, \"ticks\": \"\", \"zerolinecolor\": \"white\"}, \"zaxis\": {\"backgroundcolor\": \"#E5ECF6\", \"gridcolor\": \"white\", \"gridwidth\": 2, \"linecolor\": \"white\", \"showbackground\": true, \"ticks\": \"\", \"zerolinecolor\": \"white\"}}, \"shapedefaults\": {\"line\": {\"color\": \"#2a3f5f\"}}, \"ternary\": {\"aaxis\": {\"gridcolor\": \"white\", \"linecolor\": \"white\", \"ticks\": \"\"}, \"baxis\": {\"gridcolor\": \"white\", \"linecolor\": \"white\", \"ticks\": \"\"}, \"bgcolor\": \"#E5ECF6\", \"caxis\": {\"gridcolor\": \"white\", \"linecolor\": \"white\", \"ticks\": \"\"}}, \"title\": {\"x\": 0.05}, \"xaxis\": {\"automargin\": true, \"gridcolor\": \"white\", \"linecolor\": \"white\", \"ticks\": \"\", \"title\": {\"standoff\": 15}, \"zerolinecolor\": \"white\", \"zerolinewidth\": 2}, \"yaxis\": {\"automargin\": true, \"gridcolor\": \"white\", \"linecolor\": \"white\", \"ticks\": \"\", \"title\": {\"standoff\": 15}, \"zerolinecolor\": \"white\", \"zerolinewidth\": 2}}}},\n",
              "                        {\"responsive\": true}\n",
              "                    ).then(function(){\n",
              "                            \n",
              "var gd = document.getElementById('42073853-472e-4a06-840a-8a75437fad94');\n",
              "var x = new MutationObserver(function (mutations, observer) {{\n",
              "        var display = window.getComputedStyle(gd).display;\n",
              "        if (!display || display === 'none') {{\n",
              "            console.log([gd, 'removed!']);\n",
              "            Plotly.purge(gd);\n",
              "            observer.disconnect();\n",
              "        }}\n",
              "}});\n",
              "\n",
              "// Listen for the removal of the full notebook cells\n",
              "var notebookContainer = gd.closest('#notebook-container');\n",
              "if (notebookContainer) {{\n",
              "    x.observe(notebookContainer, {childList: true});\n",
              "}}\n",
              "\n",
              "// Listen for the clearing of the current output cell\n",
              "var outputEl = gd.closest('.output');\n",
              "if (outputEl) {{\n",
              "    x.observe(outputEl, {childList: true});\n",
              "}}\n",
              "\n",
              "                        })\n",
              "                };\n",
              "                \n",
              "            </script>\n",
              "        </div>\n",
              "</body>\n",
              "</html>"
            ]
          },
          "metadata": {
            "tags": []
          }
        }
      ]
    },
    {
      "cell_type": "markdown",
      "metadata": {
        "id": "cZYup7lFYXlY"
      },
      "source": [
        "## category_name"
      ]
    },
    {
      "cell_type": "code",
      "metadata": {
        "colab": {
          "base_uri": "https://localhost:8080/"
        },
        "id": "PHdLVCCJXgxA",
        "outputId": "43e5cbb6-88c9-47c9-fbe5-010a5df60252"
      },
      "source": [
        "# apply lambda에서 호출되는 대,중,소 분할 함수 생성, 대,중,소 값을 리스트 반환\n",
        "def split_cat(category_name):\n",
        "    try:\n",
        "        return category_name.split('/')\n",
        "    except:\n",
        "        return ['Other_Null' , 'Other_Null' , 'Other_Null']\n",
        "\n",
        "# 위의 split_cat( )을 apply lambda에서 호출하여 대,중,소 컬럼을 mercari_df에 생성. \n",
        "mercari['cat_dae'], mercari['cat_jung'], mercari['cat_so'] = \\\n",
        "                        zip(*mercari['category_name'].apply(lambda x : split_cat(x)))\n",
        "\n",
        "# 대분류만 값의 유형과 건수를 살펴보고, 중분류, 소분류는 값의 유형이 많으므로 분류 갯수만 추출\n",
        "print('대분류 유형 :\\n', mercari['cat_dae'].value_counts())\n",
        "print('중분류 갯수 :', mercari['cat_jung'].nunique())\n",
        "print('소분류 갯수 :', mercari['cat_so'].nunique())"
      ],
      "execution_count": null,
      "outputs": [
        {
          "output_type": "stream",
          "text": [
            "대분류 유형 :\n",
            " Women                     664385\n",
            "Beauty                    207828\n",
            "Kids                      171689\n",
            "Electronics               122690\n",
            "Men                        93680\n",
            "Home                       67871\n",
            "Vintage & Collectibles     46530\n",
            "Other                      45351\n",
            "Handmade                   30842\n",
            "Sports & Outdoors          25342\n",
            "Other_Null                  6327\n",
            "Name: cat_dae, dtype: int64\n",
            "중분류 갯수 : 114\n",
            "소분류 갯수 : 871\n"
          ],
          "name": "stdout"
        }
      ]
    },
    {
      "cell_type": "code",
      "metadata": {
        "colab": {
          "base_uri": "https://localhost:8080/"
        },
        "id": "xTfBSP34Yiwo",
        "outputId": "b1858fa3-c21e-4178-b817-a0f14a9e4118"
      },
      "source": [
        "mercari['cat_so'].value_counts()"
      ],
      "execution_count": null,
      "outputs": [
        {
          "output_type": "execute_result",
          "data": {
            "text/plain": [
              "Pants, Tights, Leggings    60177\n",
              "Other                      50224\n",
              "Face                       50171\n",
              "T-Shirts                   46380\n",
              "Shoes                      32168\n",
              "                           ...  \n",
              "Cleaning                       1\n",
              "Garbage Disposals              1\n",
              "Crib Netting                   1\n",
              "Map                            1\n",
              "Pad                            1\n",
              "Name: cat_so, Length: 871, dtype: int64"
            ]
          },
          "metadata": {
            "tags": []
          },
          "execution_count": 22
        }
      ]
    },
    {
      "cell_type": "code",
      "metadata": {
        "colab": {
          "base_uri": "https://localhost:8080/",
          "height": 542
        },
        "id": "WGyzjXXQYxoB",
        "outputId": "e14462ff-15de-4aa9-eace-13f4b8570bc2"
      },
      "source": [
        "px.pie(mercari, values = mercari.groupby('cat_dae')['name'].count(), names = list(set(mercari['cat_dae'].values)))"
      ],
      "execution_count": null,
      "outputs": [
        {
          "output_type": "display_data",
          "data": {
            "text/html": [
              "<html>\n",
              "<head><meta charset=\"utf-8\" /></head>\n",
              "<body>\n",
              "    <div>\n",
              "            <script src=\"https://cdnjs.cloudflare.com/ajax/libs/mathjax/2.7.5/MathJax.js?config=TeX-AMS-MML_SVG\"></script><script type=\"text/javascript\">if (window.MathJax) {MathJax.Hub.Config({SVG: {font: \"STIX-Web\"}});}</script>\n",
              "                <script type=\"text/javascript\">window.PlotlyConfig = {MathJaxConfig: 'local'};</script>\n",
              "        <script src=\"https://cdn.plot.ly/plotly-latest.min.js\"></script>    \n",
              "            <div id=\"771c6b02-0985-4000-933c-1cec90c846cc\" class=\"plotly-graph-div\" style=\"height:525px; width:100%;\"></div>\n",
              "            <script type=\"text/javascript\">\n",
              "                \n",
              "                    window.PLOTLYENV=window.PLOTLYENV || {};\n",
              "                    \n",
              "                if (document.getElementById(\"771c6b02-0985-4000-933c-1cec90c846cc\")) {\n",
              "                    Plotly.newPlot(\n",
              "                        '771c6b02-0985-4000-933c-1cec90c846cc',\n",
              "                        [{\"domain\": {\"x\": [0.0, 1.0], \"y\": [0.0, 1.0]}, \"hoverlabel\": {\"namelength\": 0}, \"hovertemplate\": \"label=%{label}<br>value=%{value}\", \"labels\": [\"Vintage & Collectibles\", \"Other_Null\", \"Men\", \"Sports & Outdoors\", \"Other\", \"Kids\", \"Beauty\", \"Women\", \"Electronics\", \"Home\", \"Handmade\"], \"legendgroup\": \"\", \"name\": \"\", \"showlegend\": true, \"type\": \"pie\", \"values\": [207828, 122690, 30842, 67871, 171689, 93680, 45351, 6327, 25342, 46530, 664385]}],\n",
              "                        {\"legend\": {\"tracegroupgap\": 0}, \"margin\": {\"t\": 60}, \"template\": {\"data\": {\"bar\": [{\"error_x\": {\"color\": \"#2a3f5f\"}, \"error_y\": {\"color\": \"#2a3f5f\"}, \"marker\": {\"line\": {\"color\": \"#E5ECF6\", \"width\": 0.5}}, \"type\": \"bar\"}], \"barpolar\": [{\"marker\": {\"line\": {\"color\": \"#E5ECF6\", \"width\": 0.5}}, \"type\": \"barpolar\"}], \"carpet\": [{\"aaxis\": {\"endlinecolor\": \"#2a3f5f\", \"gridcolor\": \"white\", \"linecolor\": \"white\", \"minorgridcolor\": \"white\", \"startlinecolor\": \"#2a3f5f\"}, \"baxis\": {\"endlinecolor\": \"#2a3f5f\", \"gridcolor\": \"white\", \"linecolor\": \"white\", \"minorgridcolor\": \"white\", \"startlinecolor\": \"#2a3f5f\"}, \"type\": \"carpet\"}], \"choropleth\": [{\"colorbar\": {\"outlinewidth\": 0, \"ticks\": \"\"}, \"type\": \"choropleth\"}], \"contour\": [{\"colorbar\": {\"outlinewidth\": 0, \"ticks\": \"\"}, \"colorscale\": [[0.0, \"#0d0887\"], [0.1111111111111111, \"#46039f\"], [0.2222222222222222, \"#7201a8\"], [0.3333333333333333, \"#9c179e\"], [0.4444444444444444, \"#bd3786\"], [0.5555555555555556, \"#d8576b\"], [0.6666666666666666, \"#ed7953\"], [0.7777777777777778, \"#fb9f3a\"], [0.8888888888888888, \"#fdca26\"], [1.0, \"#f0f921\"]], \"type\": \"contour\"}], \"contourcarpet\": [{\"colorbar\": {\"outlinewidth\": 0, \"ticks\": \"\"}, \"type\": \"contourcarpet\"}], \"heatmap\": [{\"colorbar\": {\"outlinewidth\": 0, \"ticks\": \"\"}, \"colorscale\": [[0.0, \"#0d0887\"], [0.1111111111111111, \"#46039f\"], [0.2222222222222222, \"#7201a8\"], [0.3333333333333333, \"#9c179e\"], [0.4444444444444444, \"#bd3786\"], [0.5555555555555556, \"#d8576b\"], [0.6666666666666666, \"#ed7953\"], [0.7777777777777778, \"#fb9f3a\"], [0.8888888888888888, \"#fdca26\"], [1.0, \"#f0f921\"]], \"type\": \"heatmap\"}], \"heatmapgl\": [{\"colorbar\": {\"outlinewidth\": 0, \"ticks\": \"\"}, \"colorscale\": [[0.0, \"#0d0887\"], [0.1111111111111111, \"#46039f\"], [0.2222222222222222, \"#7201a8\"], [0.3333333333333333, \"#9c179e\"], [0.4444444444444444, \"#bd3786\"], [0.5555555555555556, \"#d8576b\"], [0.6666666666666666, \"#ed7953\"], [0.7777777777777778, \"#fb9f3a\"], [0.8888888888888888, \"#fdca26\"], [1.0, \"#f0f921\"]], \"type\": \"heatmapgl\"}], \"histogram\": [{\"marker\": {\"colorbar\": {\"outlinewidth\": 0, \"ticks\": \"\"}}, \"type\": \"histogram\"}], \"histogram2d\": [{\"colorbar\": {\"outlinewidth\": 0, \"ticks\": \"\"}, \"colorscale\": [[0.0, \"#0d0887\"], [0.1111111111111111, \"#46039f\"], [0.2222222222222222, \"#7201a8\"], [0.3333333333333333, \"#9c179e\"], [0.4444444444444444, \"#bd3786\"], [0.5555555555555556, \"#d8576b\"], [0.6666666666666666, \"#ed7953\"], [0.7777777777777778, \"#fb9f3a\"], [0.8888888888888888, \"#fdca26\"], [1.0, \"#f0f921\"]], \"type\": \"histogram2d\"}], \"histogram2dcontour\": [{\"colorbar\": {\"outlinewidth\": 0, \"ticks\": \"\"}, \"colorscale\": [[0.0, \"#0d0887\"], [0.1111111111111111, \"#46039f\"], [0.2222222222222222, \"#7201a8\"], [0.3333333333333333, \"#9c179e\"], [0.4444444444444444, \"#bd3786\"], [0.5555555555555556, \"#d8576b\"], [0.6666666666666666, \"#ed7953\"], [0.7777777777777778, \"#fb9f3a\"], [0.8888888888888888, \"#fdca26\"], [1.0, \"#f0f921\"]], \"type\": \"histogram2dcontour\"}], \"mesh3d\": [{\"colorbar\": {\"outlinewidth\": 0, \"ticks\": \"\"}, \"type\": \"mesh3d\"}], \"parcoords\": [{\"line\": {\"colorbar\": {\"outlinewidth\": 0, \"ticks\": \"\"}}, \"type\": \"parcoords\"}], \"pie\": [{\"automargin\": true, \"type\": \"pie\"}], \"scatter\": [{\"marker\": {\"colorbar\": {\"outlinewidth\": 0, \"ticks\": \"\"}}, \"type\": \"scatter\"}], \"scatter3d\": [{\"line\": {\"colorbar\": {\"outlinewidth\": 0, \"ticks\": \"\"}}, \"marker\": {\"colorbar\": {\"outlinewidth\": 0, \"ticks\": \"\"}}, \"type\": \"scatter3d\"}], \"scattercarpet\": [{\"marker\": {\"colorbar\": {\"outlinewidth\": 0, \"ticks\": \"\"}}, \"type\": \"scattercarpet\"}], \"scattergeo\": [{\"marker\": {\"colorbar\": {\"outlinewidth\": 0, \"ticks\": \"\"}}, \"type\": \"scattergeo\"}], \"scattergl\": [{\"marker\": {\"colorbar\": {\"outlinewidth\": 0, \"ticks\": \"\"}}, \"type\": \"scattergl\"}], \"scattermapbox\": [{\"marker\": {\"colorbar\": {\"outlinewidth\": 0, \"ticks\": \"\"}}, \"type\": \"scattermapbox\"}], \"scatterpolar\": [{\"marker\": {\"colorbar\": {\"outlinewidth\": 0, \"ticks\": \"\"}}, \"type\": \"scatterpolar\"}], \"scatterpolargl\": [{\"marker\": {\"colorbar\": {\"outlinewidth\": 0, \"ticks\": \"\"}}, \"type\": \"scatterpolargl\"}], \"scatterternary\": [{\"marker\": {\"colorbar\": {\"outlinewidth\": 0, \"ticks\": \"\"}}, \"type\": \"scatterternary\"}], \"surface\": [{\"colorbar\": {\"outlinewidth\": 0, \"ticks\": \"\"}, \"colorscale\": [[0.0, \"#0d0887\"], [0.1111111111111111, \"#46039f\"], [0.2222222222222222, \"#7201a8\"], [0.3333333333333333, \"#9c179e\"], [0.4444444444444444, \"#bd3786\"], [0.5555555555555556, \"#d8576b\"], [0.6666666666666666, \"#ed7953\"], [0.7777777777777778, \"#fb9f3a\"], [0.8888888888888888, \"#fdca26\"], [1.0, \"#f0f921\"]], \"type\": \"surface\"}], \"table\": [{\"cells\": {\"fill\": {\"color\": \"#EBF0F8\"}, \"line\": {\"color\": \"white\"}}, \"header\": {\"fill\": {\"color\": \"#C8D4E3\"}, \"line\": {\"color\": \"white\"}}, \"type\": \"table\"}]}, \"layout\": {\"annotationdefaults\": {\"arrowcolor\": \"#2a3f5f\", \"arrowhead\": 0, \"arrowwidth\": 1}, \"coloraxis\": {\"colorbar\": {\"outlinewidth\": 0, \"ticks\": \"\"}}, \"colorscale\": {\"diverging\": [[0, \"#8e0152\"], [0.1, \"#c51b7d\"], [0.2, \"#de77ae\"], [0.3, \"#f1b6da\"], [0.4, \"#fde0ef\"], [0.5, \"#f7f7f7\"], [0.6, \"#e6f5d0\"], [0.7, \"#b8e186\"], [0.8, \"#7fbc41\"], [0.9, \"#4d9221\"], [1, \"#276419\"]], \"sequential\": [[0.0, \"#0d0887\"], [0.1111111111111111, \"#46039f\"], [0.2222222222222222, \"#7201a8\"], [0.3333333333333333, \"#9c179e\"], [0.4444444444444444, \"#bd3786\"], [0.5555555555555556, \"#d8576b\"], [0.6666666666666666, \"#ed7953\"], [0.7777777777777778, \"#fb9f3a\"], [0.8888888888888888, \"#fdca26\"], [1.0, \"#f0f921\"]], \"sequentialminus\": [[0.0, \"#0d0887\"], [0.1111111111111111, \"#46039f\"], [0.2222222222222222, \"#7201a8\"], [0.3333333333333333, \"#9c179e\"], [0.4444444444444444, \"#bd3786\"], [0.5555555555555556, \"#d8576b\"], [0.6666666666666666, \"#ed7953\"], [0.7777777777777778, \"#fb9f3a\"], [0.8888888888888888, \"#fdca26\"], [1.0, \"#f0f921\"]]}, \"colorway\": [\"#636efa\", \"#EF553B\", \"#00cc96\", \"#ab63fa\", \"#FFA15A\", \"#19d3f3\", \"#FF6692\", \"#B6E880\", \"#FF97FF\", \"#FECB52\"], \"font\": {\"color\": \"#2a3f5f\"}, \"geo\": {\"bgcolor\": \"white\", \"lakecolor\": \"white\", \"landcolor\": \"#E5ECF6\", \"showlakes\": true, \"showland\": true, \"subunitcolor\": \"white\"}, \"hoverlabel\": {\"align\": \"left\"}, \"hovermode\": \"closest\", \"mapbox\": {\"style\": \"light\"}, \"paper_bgcolor\": \"white\", \"plot_bgcolor\": \"#E5ECF6\", \"polar\": {\"angularaxis\": {\"gridcolor\": \"white\", \"linecolor\": \"white\", \"ticks\": \"\"}, \"bgcolor\": \"#E5ECF6\", \"radialaxis\": {\"gridcolor\": \"white\", \"linecolor\": \"white\", \"ticks\": \"\"}}, \"scene\": {\"xaxis\": {\"backgroundcolor\": \"#E5ECF6\", \"gridcolor\": \"white\", \"gridwidth\": 2, \"linecolor\": \"white\", \"showbackground\": true, \"ticks\": \"\", \"zerolinecolor\": \"white\"}, \"yaxis\": {\"backgroundcolor\": \"#E5ECF6\", \"gridcolor\": \"white\", \"gridwidth\": 2, \"linecolor\": \"white\", \"showbackground\": true, \"ticks\": \"\", \"zerolinecolor\": \"white\"}, \"zaxis\": {\"backgroundcolor\": \"#E5ECF6\", \"gridcolor\": \"white\", \"gridwidth\": 2, \"linecolor\": \"white\", \"showbackground\": true, \"ticks\": \"\", \"zerolinecolor\": \"white\"}}, \"shapedefaults\": {\"line\": {\"color\": \"#2a3f5f\"}}, \"ternary\": {\"aaxis\": {\"gridcolor\": \"white\", \"linecolor\": \"white\", \"ticks\": \"\"}, \"baxis\": {\"gridcolor\": \"white\", \"linecolor\": \"white\", \"ticks\": \"\"}, \"bgcolor\": \"#E5ECF6\", \"caxis\": {\"gridcolor\": \"white\", \"linecolor\": \"white\", \"ticks\": \"\"}}, \"title\": {\"x\": 0.05}, \"xaxis\": {\"automargin\": true, \"gridcolor\": \"white\", \"linecolor\": \"white\", \"ticks\": \"\", \"title\": {\"standoff\": 15}, \"zerolinecolor\": \"white\", \"zerolinewidth\": 2}, \"yaxis\": {\"automargin\": true, \"gridcolor\": \"white\", \"linecolor\": \"white\", \"ticks\": \"\", \"title\": {\"standoff\": 15}, \"zerolinecolor\": \"white\", \"zerolinewidth\": 2}}}},\n",
              "                        {\"responsive\": true}\n",
              "                    ).then(function(){\n",
              "                            \n",
              "var gd = document.getElementById('771c6b02-0985-4000-933c-1cec90c846cc');\n",
              "var x = new MutationObserver(function (mutations, observer) {{\n",
              "        var display = window.getComputedStyle(gd).display;\n",
              "        if (!display || display === 'none') {{\n",
              "            console.log([gd, 'removed!']);\n",
              "            Plotly.purge(gd);\n",
              "            observer.disconnect();\n",
              "        }}\n",
              "}});\n",
              "\n",
              "// Listen for the removal of the full notebook cells\n",
              "var notebookContainer = gd.closest('#notebook-container');\n",
              "if (notebookContainer) {{\n",
              "    x.observe(notebookContainer, {childList: true});\n",
              "}}\n",
              "\n",
              "// Listen for the clearing of the current output cell\n",
              "var outputEl = gd.closest('.output');\n",
              "if (outputEl) {{\n",
              "    x.observe(outputEl, {childList: true});\n",
              "}}\n",
              "\n",
              "                        })\n",
              "                };\n",
              "                \n",
              "            </script>\n",
              "        </div>\n",
              "</body>\n",
              "</html>"
            ]
          },
          "metadata": {
            "tags": []
          }
        }
      ]
    },
    {
      "cell_type": "code",
      "metadata": {
        "colab": {
          "base_uri": "https://localhost:8080/"
        },
        "id": "XM7Luz7NfVbA",
        "outputId": "7f40f0c3-7ab1-4d16-bf0a-1ebdd022d069"
      },
      "source": [
        "mercari['cat_so'].value_counts()"
      ],
      "execution_count": null,
      "outputs": [
        {
          "output_type": "execute_result",
          "data": {
            "text/plain": [
              "Pants, Tights, Leggings    60177\n",
              "Other                      50224\n",
              "Face                       50171\n",
              "T-Shirts                   46380\n",
              "Shoes                      32168\n",
              "                           ...  \n",
              "Cleaning                       1\n",
              "Garbage Disposals              1\n",
              "Crib Netting                   1\n",
              "Map                            1\n",
              "Pad                            1\n",
              "Name: cat_so, Length: 871, dtype: int64"
            ]
          },
          "metadata": {
            "tags": []
          },
          "execution_count": 24
        }
      ]
    },
    {
      "cell_type": "code",
      "metadata": {
        "colab": {
          "base_uri": "https://localhost:8080/",
          "height": 542
        },
        "id": "8rJ1qI7NZDCx",
        "outputId": "789aeb38-70c7-4748-8071-40227cc6a643"
      },
      "source": [
        "cat_so = mercari.groupby('cat_so').count()\n",
        "px.bar(cat_so, x= cat_so.index, y = 'name')"
      ],
      "execution_count": null,
      "outputs": [
        {
          "output_type": "display_data",
          "data": {
            "text/html": [
              "<html>\n",
              "<head><meta charset=\"utf-8\" /></head>\n",
              "<body>\n",
              "    <div>\n",
              "            <script src=\"https://cdnjs.cloudflare.com/ajax/libs/mathjax/2.7.5/MathJax.js?config=TeX-AMS-MML_SVG\"></script><script type=\"text/javascript\">if (window.MathJax) {MathJax.Hub.Config({SVG: {font: \"STIX-Web\"}});}</script>\n",
              "                <script type=\"text/javascript\">window.PlotlyConfig = {MathJaxConfig: 'local'};</script>\n",
              "        <script src=\"https://cdn.plot.ly/plotly-latest.min.js\"></script>    \n",
              "            <div id=\"80bdb737-0c17-43e9-96c9-d8660bde5618\" class=\"plotly-graph-div\" style=\"height:525px; width:100%;\"></div>\n",
              "            <script type=\"text/javascript\">\n",
              "                \n",
              "                    window.PLOTLYENV=window.PLOTLYENV || {};\n",
              "                    \n",
              "                if (document.getElementById(\"80bdb737-0c17-43e9-96c9-d8660bde5618\")) {\n",
              "                    Plotly.newPlot(\n",
              "                        '80bdb737-0c17-43e9-96c9-d8660bde5618',\n",
              "                        [{\"alignmentgroup\": \"True\", \"hoverlabel\": {\"namelength\": 0}, \"hovertemplate\": \"x=%{x}<br>name=%{y}\", \"legendgroup\": \"\", \"marker\": {\"color\": \"#636efa\"}, \"name\": \"\", \"offsetgroup\": \"\", \"orientation\": \"v\", \"showlegend\": false, \"textposition\": \"auto\", \"type\": \"bar\", \"x\": [\"100 Years or Older\", \"50 To 75 Years\", \"75 To 100 Years\", \"A-Line\", \"Above Knee, Mini\", \"Accessories\", \"Accessory\", \"Aceo\", \"Action Figure\", \"Action Figures & Statues\", \"Action, Adventure\", \"Activity Centers & Entertainers\", \"Advertisement\", \"Afghan\", \"Air Conditioners\", \"Air Fresheners\", \"Air Purifiers\", \"All Other Sports\", \"Amplifiers & Effects\", \"Animal\", \"Animals\", \"Animation\", \"Apron\", \"Area Rugs & Pads\", \"Art\", \"Art Doll\", \"Artist Bears\", \"Arts & Crafts\", \"Arts & Photography\", \"Asymmetrical\", \"Asymmetrical Hem\", \"Athletic\", \"Athletic Apparel\", \"Athletic Training\", \"Automotive Enthusiast Merchandise\", \"Baby\", \"Baby & Child Care\", \"Baby & Toddler Toys\", \"Baby Gyms & Playmats\", \"Baby Seats\", \"Backpack\", \"Backpack Style\", \"Backpacks & Carriers\", \"Backpacks, Bags & Briefcases\", \"Badminton\", \"Baggy, Loose\", \"Bags & Cases\", \"Bags and Purses\", \"Baguette\", \"Bakeware\", \"Band & Orchestra\", \"Baseball & Softball\", \"Basic Supplies\", \"Basket\", \"Basketball\", \"Baskets\", \"Baskets & Bins\", \"Bass Guitars\", \"Bath\", \"Bath Linen Sets\", \"Bath Rugs\", \"Bathing Accessories\", \"Bathing Tubs & Seats\", \"Bathroom\", \"Bathroom Accessories\", \"Bathroom Furniture\", \"Bathroom Furniture Sets\", \"Bathroom Safety\", \"Bathroom Shelves\", \"Bathroom Storage & Organization\", \"Batteries\", \"Beach Accessories\", \"Bead\", \"Beading\", \"Beads\", \"Bear\", \"Bed\", \"Bed Pillows\", \"Bed in a Bag\", \"Bedding\", \"Bedroom Furniture\", \"Bedspreads & Coverlets\", \"Belt\", \"Belts\", \"Bicycle Child Seats & Trailers\", \"Bike & Skate\", \"Binoculars & Telescopes\", \"Biographies & Memoirs\", \"Biography\", \"Birthday\", \"Blanket\", \"Blankets & Throws\", \"Blazer\", \"Block\", \"Blouse\", \"Blu-Ray\", \"Board Shorts\", \"Board, Surf\", \"Boating\", \"Body\", \"Book\", \"Bookmark\", \"Books and Zines\", \"Boot Cut\", \"Boots\", \"Bottle-Feeding\", \"Bottles\", \"Bottoms\", \"Bouquets\", \"Bowl\", \"Bowling\", \"Bowls\", \"Box\", \"Boxes\", \"Boxing & MMA\", \"Boyfriend\", \"Boys\", \"Bracelet\", \"Bracelets\", \"Bras\", \"Brass Instruments\", \"Breastfeeding\", \"Breastfeeding Pillows & Stools\", \"Brooch\", \"Brushes\", \"Brushes & Applicators\", \"Bubble\", \"Bubble Bath\", \"Buckle\", \"Building Toys\", \"Burning\", \"Business & Money\", \"Butter Dish\", \"Button\", \"Button Down Shirt\", \"Button-Front\", \"CD\", \"Cabinet Locks & Straps\", \"Cables & Adapters\", \"Cabochon\", \"Cage\", \"Cake Toppers\", \"Calendar\", \"Calendars\", \"Camcorders\", \"Camera\", \"Camera & Photo Accessories\", \"Candle Holder\", \"Candles\", \"Candles & Holders\", \"Candles & Home Scents\", \"Cape\", \"Capri, Cropped\", \"Capris, Cropped\", \"Car\", \"Car Care\", \"Car Electronics & Accessories\", \"Car Seats\", \"Car Security & Convenience\", \"Car Speakers & Systems\", \"Car Stereos & Components\", \"Car Subwoofers\", \"Car Video\", \"Cardigan\", \"Cards\", \"Cargo\", \"Carpenter\", \"Carpenter, Utility\", \"Carving\", \"Case\", \"Cases, Covers & Skins\", \"Casserole\", \"Casual Pants\", \"Casual Shorts\", \"Cell Phone Accessories\", \"Cell Phones & Smartphones\", \"Ceramic\", \"Chain\", \"Chair\", \"Change Purse\", \"Changing Kits\", \"Changing Pads & Covers\", \"Chargers & Cradles\", \"Charm\", \"Child Friendly\", \"Children\", \"Children's Books\", \"Christian Books & Bibles\", \"Christmas\", \"Classic, Straight Leg\", \"Cleaning\", \"Cleansers\", \"Cleats\", \"Clock\", \"Clocks\", \"Cloth Diapers\", \"Clothing\", \"Clothing & Closet Storage\", \"Clutch\", \"Coaster\", \"Coasters\", \"Coats & Jackets\", \"Coffee & Tea Accessories\", \"Collages\", \"Collar\", \"Collared\", \"Collectibles\", \"Comforters & Sets\", \"Comic\", \"Comics\", \"Compact\", \"Competitive Swimwear\", \"Components & Parts\", \"Conditioners\", \"Consoles\", \"Cookbook\", \"Cookware\", \"Corduroys\", \"Corset\", \"Cosmetic Bags\", \"Costume\", \"Cotton & Swabs\", \"Cover-Ups\", \"Cowl Neck\", \"Cozy\", \"Crafting\", \"Cream and Sugar Set\", \"Crewneck\", \"Crib Netting\", \"Crochet\", \"Cross Stitch\", \"Cuff\", \"Cuff Links\", \"Cup\", \"Custom\", \"DJ, Electronic Music & Karaoke\", \"DVD\", \"DVD & Blu-ray Players\", \"Dance\", \"Day of the Dead\", \"Decorating\", \"Decorations\", \"Decorative Pillows\", \"Decorative Pillows, Inserts & Covers\", \"Dehumidifiers\", \"Denim\", \"Desktops & All-In-Ones\", \"Diaper Bag\", \"Diaper Bags\", \"Diaper Pails & Refills\", \"Diaper Stackers & Caddies\", \"Digital Cameras\", \"Dining & Entertaining\", \"Dinnerware Set\", \"Dishes\", \"Dishwashers\", \"Disposable Diapers\", \"Dogs\", \"Doll\", \"Doll Clothes\", \"Doll Clothing\", \"Dolls & Accessories\", \"Doormats\", \"Doorstops\", \"Double Breasted\", \"Draft Stoppers\", \"Drawings\", \"Dress\", \"Dress - Flat Front\", \"Dress - Pleat\", \"Dress Pants\", \"Dress Shirts\", \"Dress Shorts\", \"Dress Suit\", \"Dress Up & Pretend Play\", \"Dresses\", \"Drives, Storage & Media\", \"Drums & Percussion\", \"Dusting\", \"Duvet Covers & Sets\", \"Earrings\", \"Easter\", \"Edge & Corner Guards\", \"Education & Teaching\", \"Educational\", \"Electrical Safety\", \"Electronic\", \"Electronics\", \"Electronics for Kids\", \"Embroidery\", \"Engineering & Transportation\", \"Entertaining\", \"Entertainment\", \"Ephemera\", \"Epilators\", \"Equipment\", \"Exterior Accessories\", \"Eyes\", \"Eyewear\", \"Fabric\", \"Fabric Postcard\", \"Face\", \"Family Planning Tests\", \"Fans\", \"Fantasy\", \"Fashion Dolls Apparel\", \"Fashion Sneakers\", \"Favors\", \"Feather Beds\", \"Feeding\", \"Feet\", \"Felted\", \"Fiction\", \"Figurine\", \"Figurines\", \"Film Photography\", \"Finding\", \"Fireplaces & Accessories\", \"Fishing\", \"Fitness accessories\", \"Fitness technology\", \"Fixture\", \"Flare\", \"Flashes & Flash Accessories\", \"Flats\", \"Flatware\", \"Fleece Jacket\", \"Flight\", \"Food\", \"Food Service Equipment & Supplies\", \"Football\", \"Formal\", \"Four Button\", \"Frame\", \"Frames\", \"Freezers & Ice Makers\", \"Full Skirt\", \"Full Zip\", \"Full-Length\", \"Furniture\", \"G-Strings & Thongs\", \"GPS Accessories & Mounts\", \"GPS Units & Equipment\", \"Gadget\", \"Gadgets\", \"Game\", \"Games\", \"Garage Storage & Organization\", \"Garbage Disposals\", \"Garment Steamers\", \"Gates & Doorways\", \"Gift Sets\", \"Gift Wrap\", \"Girls\", \"Glass\", \"Glassware\", \"Gloves\", \"Golf Apparel\", \"Golf Bags\", \"Golf Balls\", \"Golf Shoes\", \"Graphic Design\", \"Grooming\", \"Grooming & Healthcare Kits\", \"Guest Books\", \"Guitars\", \"Hair\", \"Hair & Scalp Treatments\", \"Hair Accessories\", \"Hair Color\", \"Hair Coloring Tools\", \"Hair Loss Products\", \"Hair Perms & Texturizers\", \"Hair Relaxers\", \"Hair Styling Tools\", \"Halloween\", \"Halter\", \"Handbag\", \"Handkerchief\", \"Handmade\", \"Hands & Nails\", \"Hanukkah\", \"Harnesses & Leashes\", \"Hat\", \"Hats\", \"Hawaiian\", \"Headphones\", \"Headsets\", \"Health\", \"Health Care\", \"Henley\", \"Highchairs & Booster Seats\", \"Hiking & Camping\", \"Hip Bag\", \"Historical, Military\", \"History\", \"Hobbies\", \"Hobo\", \"Hockey\", \"Holiday D\\u00e9cor Storage\", \"Home Audio\", \"Home Bar Furniture\", \"Home Brewing & Wine Making\", \"Home Decor\", \"Home D\\u00e9cor Accents\", \"Home Entertainment Furniture\", \"Home Fragrance\", \"Home Office Furniture\", \"Home Speakers & Subwoofers\", \"Home Surveillance\", \"Hooded\", \"Hoodie\", \"Horror\", \"House\", \"Household Cleaners\", \"Household Supplies\", \"Housewares\", \"How to\", \"Human Figure Doll\", \"Humidifiers\", \"Humidifiers & Vaporizers\", \"Humor\", \"Illustrated\", \"Illustration\", \"Indoor\", \"Inflatable Beds\", \"Ink & Toner\", \"Instructional\", \"Instrument\", \"Instrument Accessories\", \"Interior Accessories\", \"International Publications\", \"Invitations\", \"Irons & Ironing Boards\", \"Jacket\", \"Jackets\", \"Jean Jacket\", \"Jeans\", \"Jerseys\", \"Jewelry\", \"Jewelry Boxes & Organizers\", \"Joggers\", \"Journal\", \"Just Married\", \"Keyboards\", \"Keychain\", \"Khakis, Chinos\", \"Kids\", \"Kids' Bath\", \"Kids' Bedding\", \"Kids' Flatware\", \"Kids' Furniture\", \"Kids' Furniture, D\\u00e9cor & Storage\", \"Kids' Room D\\u00e9cor\", \"Kitchen\", \"Kitchen & Table Linens\", \"Kitchen Appliances\", \"Kitchen Knives & Cutlery Accessories\", \"Kitchen Safety\", \"Kitchen Storage & Organization\", \"Kitchen Utensils & Gadgets\", \"Knee-Length\", \"Knit Top\", \"Knitting\", \"Knitting Supplies\", \"Lacrosse\", \"Lamps& Accessories\", \"Lanyard\", \"Laptop\", \"Laptops & Netbooks\", \"Laundry Storage & Organization\", \"Learning & Education\", \"Leash\", \"Leather\", \"Leg Warmers\", \"Leggings\", \"Lenses & Filters\", \"Lifestyle & Cultures\", \"Light\", \"Lighting\", \"Lighting & Studio\", \"Lights & Lighting Accessories\", \"Lightweight\", \"Linen\", \"Linens\", \"Lingerie\", \"Lips\", \"Literature & Fiction\", \"Lithographs, Etchings & Woodcuts\", \"Live Sound & Stage\", \"Living Room Furniture\", \"Loafers & Slip-Ons\", \"Luggage\", \"MLB\", \"Magic\", \"Magnet\", \"Magnets\", \"Makeup Brushes & Tools\", \"Makeup Palettes\", \"Makeup Remover\", \"Makeup Sets\", \"Map\", \"Maternity\", \"Maternity Pillows\", \"Mattress Pads\", \"Maxi\", \"Medical Books\", \"Medical Supplies & Equipment\", \"Men\", \"Men's Golf Clubs\", \"Messenger & Crossbody\", \"Microphones & Accessories\", \"Microwaves\", \"Mid-Calf\", \"Military\", \"Mini\", \"Miniature\", \"Mirror\", \"Mirrors\", \"Mixed Media\", \"Monitors\", \"Mopping\", \"Motorcycle\", \"Motorcycle & Powersports\", \"Mug\", \"Mules & Clogs\", \"Music\", \"NBA\", \"NCAA\", \"NFL\", \"NHL\", \"Nail Care\", \"Nail Tools\", \"Nails\", \"Nasal Aspirators\", \"Necklace\", \"Necklaces\", \"Necktie\", \"Needlepoint\", \"Networking & Connectivity\", \"New Year's\", \"New Years\", \"Non-Slip Bath Mats\", \"Nonfiction\", \"Notebook\", \"Novelty\", \"Novelty & Gag Toys\", \"Nursery Bedding\", \"Nursery D\\u00e9cor\", \"Nursery Furniture\", \"Office\", \"Oils & Fluids\", \"One Button\", \"One-Piece\", \"One-Pieces\", \"Organization\", \"Origami\", \"Ornaments\", \"Other\", \"Other Accessories\", \"Other Furniture\", \"Other_Null\", \"Others\", \"Outdoor\", \"Outdoor Safety\", \"Outerwear\", \"Overalls\", \"Oxfords\", \"Pacifiers & Accessories\", \"Pad\", \"Paint, Body & Trim\", \"Painting\", \"Paintings\", \"Pant Suit\", \"Panties\", \"Pants\", \"Pants, Tights, Leggings\", \"Paper\", \"Paper Ephemera\", \"Paper Towels\", \"Papermaking\", \"Paperweights\", \"Parka\", \"Party Supplies\", \"Patch\", \"Patchwork\", \"Patriotic\", \"Pattern\", \"Peacoat\", \"Peasant\", \"Pendant\", \"Performance Parts & Accessories\", \"Personal Care\", \"Personalized\", \"Pet Food\", \"Pet Lover\", \"Photo Albums & Frames\", \"Photographs\", \"Photography\", \"Pillow\", \"Pillows\", \"Pillows & Stools\", \"Pin\", \"Pinback Button\", \"Pitcher\", \"Planter\", \"Planters\", \"Plate\", \"Platter\", \"Playard Bedding\", \"Playards\", \"Pleated\", \"Plush\", \"Poetry\", \"Politics & Social Sciences\", \"Polo\", \"Polo Shirt\", \"Polo, Rugby\", \"Poncho\", \"Porcelain\", \"Portable Audio & Accessories\", \"Postcard\", \"Poster\", \"Posters & Prints\", \"Pot Holder\", \"Potties & Seats\", \"Pouch\", \"Powders & Lotions\", \"Prams\", \"Prenatal Monitoring Devices\", \"Presentation\", \"Price Guides & Publications\", \"Primitive\", \"Print\", \"Printers, Scanners & Supplies\", \"Printmaking\", \"Puffer\", \"Pumps\", \"Purse\", \"Puzzle\", \"Puzzles\", \"Quilt\", \"Quilts\", \"RV Parts & Accessories\", \"Racks, Shelves & Drawers\", \"Radio\", \"Raincoat\", \"Rainwear\", \"Reference\", \"Refrigerators\", \"Relaxed\", \"Religion\", \"Religion & Spirituality\", \"Religious\", \"Replacement Parts\", \"Replacement Parts & Tools\", \"Ring\", \"Rings\", \"Safety Caps\", \"Salt and Pepper Shakers\", \"Sandals\", \"Satchel\", \"Scale Dollhouse Miniature\", \"Scale Models\", \"Scarf\", \"Scarves & Wraps\", \"School Supplies\", \"Sci-Fi, Fantasy\", \"Science\", \"Science & Math\", \"Scifi\", \"Scoop Neck\", \"Scrapbooking\", \"Screen Protectors\", \"Scrubs & Body Treatments\", \"Sculptures\", \"Seasonal\", \"Seat Covers\", \"Serving\", \"Sets\", \"Sets & Kits\", \"Sewing\", \"Shampoo\", \"Shampoo & Conditioner Sets\", \"Shampoo Plus Conditioner\", \"Shampoos\", \"Shams, Bed Skirts & Bed Frame Draperies\", \"Shawl\", \"Sheets & Pillowcases\", \"Shelf\", \"Shipping Supplies\", \"Shirt\", \"Shirts & Tops\", \"Shoes\", \"Shopping Cart Covers\", \"Shorts\", \"Shoulder Bag\", \"Shrug\", \"Signs\", \"Skateboard\", \"Skin Care\", \"Skirt\", \"Skirt Suit\", \"Skirts\", \"Skirts, Skorts & Dresses\", \"Sleep Positioners\", \"Slim, Skinny\", \"Slipcovers\", \"Slippers\", \"Small Animal\", \"Small Appliances\", \"Snowboard\", \"Snowsuits & Bibs\", \"Soaps & Cleansers\", \"Soccer\", \"Socks\", \"Something Blue\", \"Souvenir\", \"Space Heaters\", \"Sponges\", \"Sport\", \"Sports\", \"Sports & Outdoor Play\", \"Sports Bras\", \"Sports Nutrition\", \"St Patrick's\", \"St Patricks\", \"Stained Glass\", \"Stamps\", \"Standard\", \"Stationery\", \"Stationery & Party Supplies\", \"Step Stools\", \"Sticker\", \"Storage\", \"Storage & Containers\", \"Storage & Organization\", \"Storage Cabinets\", \"Storage Solutions\", \"Straight Leg\", \"Straight, Pencil\", \"Strategy Guides\", \"Strength training\", \"Stringed Instruments\", \"Studio Recording Equipment\", \"Stuffed Animals & Plush\", \"Styling Products\", \"Styling Tools\", \"Suits & Blazers\", \"Sun\", \"Sun Protection\", \"Sunglasses\", \"Supplies\", \"Sweater\", \"Sweatercoat\", \"Sweaters\", \"Sweatshirt, Pullover\", \"Sweeping\", \"Swim Briefs\", \"Swim Trunks\", \"Swimwear\", \"Swings, Jumpers & Bouncers\", \"T-Shirts\", \"T-shirts\", \"Table\", \"Tag\", \"Tank\", \"Tank, Cami\", \"Tape\", \"Tapestries\", \"Teacup\", \"Teapot\", \"Teethers\", \"Teething Relief\", \"Telephone\", \"Television\", \"Televisions\", \"Tennis & Racquets\", \"Thanksgiving\", \"Thermal Underwear\", \"Thermometers\", \"Three Button\", \"Tiered\", \"Ties\", \"Tiles\", \"Tires & Wheels\", \"Toddler\", \"Toiletry Kits\", \"Tools & Equipment\", \"Toothbrushes\", \"Top & T-shirts\", \"Tops & Blouses\", \"Tops & T-Shirts\", \"Tote\", \"Totes & Shoppers\", \"Towel\", \"Towels\", \"Toy\", \"Toy Remote Control & Play Vehicles\", \"Toys\", \"Track & Field\", \"Track & Sweat Pants\", \"Track & Sweat Suits\", \"Track Jacket\", \"Tracksuits & Sweats\", \"Training Pants\", \"Trash & Recycling\", \"Trash Bags\", \"Travel Bathing Kits\", \"Travel Beds\", \"Travel Systems\", \"Tray\", \"Trench\", \"Tricycles, Scooters & Wagons\", \"Trim\", \"Tripods & Supports\", \"Tshirt\", \"Tumbler\", \"Tunic\", \"Turtleneck\", \"Turtleneck, Mock\", \"Tuxedo\", \"Tweezers\", \"Two Button\", \"Two-Piece\", \"V-Neck\", \"VHS\", \"Vacuums & Floor Care\", \"Valentine\", \"Varsity\", \"Vase\", \"Vases\", \"Vest\", \"Vest, Sleeveless\", \"Vests\", \"Video Game\", \"Video Gaming Merchandise\", \"Videogame\", \"Vintage\", \"Vinyl\", \"Volleyball\", \"Walkers\", \"Wall Decor\", \"Wall Hanging\", \"Wallet\", \"Wallets\", \"Washcloths & Towels\", \"Washers & Dryers\", \"Watch\", \"Watches\", \"Water Coolers & Filters\", \"Water Sports\", \"Waxing\", \"Wide Leg\", \"Wind & Woodwind Instruments\", \"Windbreaker\", \"Window Treatments\", \"Wine Accessories\", \"Wine, Beer & Beverage Coolers\", \"Wipes & Holders\", \"Women\", \"Women's Golf Clubs\", \"Wool\", \"Work & Safety\", \"Wrap\", \"Wristlet\", \"Writing\", \"Yarn\", \"Yoga & Pilates\", \"Zipper\", \"iPad\"], \"xaxis\": \"x\", \"y\": [140, 92, 42, 756, 20082, 10297, 31, 1, 5354, 12524, 14, 20, 3, 9, 42, 441, 31, 61, 52, 253, 2, 2954, 56, 214, 88, 8, 1, 7205, 205, 117, 3370, 27059, 39, 324, 21, 402, 155, 2031, 186, 224, 164, 4551, 1921, 1747, 2, 54, 520, 69, 60, 1233, 8, 665, 329, 19, 127, 279, 233, 5, 5049, 13, 23, 343, 143, 1, 913, 1, 5, 7, 1, 33, 239, 958, 228, 2, 11, 1, 8, 123, 10, 1416, 32, 45, 13, 2682, 2, 302, 59, 127, 11, 35, 17, 1708, 1343, 15, 20288, 2188, 137, 42, 5, 10758, 466, 15, 2, 7234, 20270, 1971, 213, 7723, 24, 387, 8, 65, 18, 4, 139, 805, 1030, 332, 14497, 21274, 18, 633, 418, 357, 5, 2532, 10, 16, 34, 2148, 3, 149, 3, 15, 3482, 1991, 1554, 55, 3423, 42, 194, 35, 7, 524, 114, 207, 1057, 36, 4, 2208, 2965, 63, 1358, 1734, 612, 46, 310, 291, 9, 30, 131, 21, 30, 8418, 396, 699, 56, 3, 2, 12, 24676, 6, 2791, 648, 9998, 8698, 680, 3, 3, 213, 3, 101, 2165, 1043, 1, 130, 1401, 219, 2116, 1754, 1, 723, 480, 11, 301, 734, 77, 446, 347, 42, 3, 7051, 9880, 3, 107, 589, 4978, 593, 36, 1064, 2, 4, 964, 476, 4209, 119, 529, 65, 627, 3852, 2293, 3, 920, 587, 2, 43, 14, 8208, 1, 20, 45, 1, 20, 413, 64, 90, 7383, 222, 598, 6, 1, 315, 863, 278, 11, 95, 170, 4, 1162, 57, 6, 1346, 5130, 11, 2, 1, 1165, 2629, 1146, 1, 4, 13957, 2, 1, 1, 2, 220, 123, 89, 20, 1331, 435, 21, 21, 1074, 8310, 692, 45, 13, 230, 12099, 254, 2, 1282, 1, 8, 349, 899, 746, 35, 5, 2, 1, 1, 88, 7, 697, 26038, 277, 198, 2, 50171, 297, 102, 5, 4, 15203, 35, 4, 18, 349, 3, 89, 1342, 5, 991, 10, 3, 397, 4213, 2034, 4, 761, 11, 5422, 11, 3783, 273, 379, 95, 394, 51, 1, 23, 1, 3, 328, 3134, 5617, 25, 1900, 64, 181, 15, 1153, 168, 30906, 12, 1, 61, 11, 30, 72, 545, 1362, 145, 281, 326, 20, 134, 23, 11, 14, 18, 10, 178, 1293, 1254, 5325, 631, 3, 125, 5, 3, 3732, 2223, 1401, 1367, 3, 4, 725, 4, 49, 129, 12059, 60, 4683, 1850, 32, 2711, 102, 109, 1983, 136, 5, 65, 2907, 323, 56, 4, 76, 5, 11, 189, 13004, 9, 5015, 28, 365, 170, 10480, 3706, 2, 2, 1638, 394, 24, 17, 4, 76, 85, 2, 6, 6, 413, 19, 546, 19, 15, 154, 273, 1, 8, 46, 174, 9904, 1862, 1995, 3760, 2491, 1636, 8, 130, 2, 74, 2263, 785, 107, 4, 220, 3, 31, 106, 388, 27, 467, 810, 215, 7, 40, 2407, 14770, 3379, 7, 134, 76, 770, 1336, 46, 1783, 64, 1025, 7, 67, 131, 6694, 197, 176, 4, 29, 41, 349, 18, 126, 4, 2639, 30871, 3099, 13, 4, 49, 5365, 418, 1053, 82, 18, 31, 7251, 19103, 445, 6175, 1, 46, 24, 84, 2686, 348, 886, 2287, 225, 8926, 178, 10, 958, 591, 2863, 4, 1, 445, 12, 220, 59, 1293, 119, 815, 944, 8, 619, 992, 3346, 215, 10, 502, 6045, 24, 414, 19758, 4, 3, 323, 4, 1, 2, 41, 75, 5, 181, 4, 189, 1, 2, 3, 9, 3784, 11689, 557, 5, 48, 50224, 38, 19, 6327, 1136, 166, 27, 12, 401, 409, 776, 1, 2, 252, 226, 390, 8648, 924, 60177, 28, 4, 56, 29, 6, 325, 916, 829, 2, 6, 14, 653, 18, 537, 19, 5556, 50, 1, 41, 717, 17, 14, 15, 13, 10, 223, 296, 3, 32, 5, 49, 2, 2, 40, 504, 9, 44, 46, 33, 652, 2308, 411, 129, 2009, 20, 26, 813, 2, 98, 151, 12, 7, 96, 7, 2, 1, 88, 316, 44, 1044, 7454, 2067, 28, 712, 2, 146, 1, 313, 39, 475, 78, 142, 19, 320, 8, 279, 59, 13, 48, 478, 10650, 2, 110, 15368, 2333, 9, 4, 81, 2631, 1901, 268, 32, 146, 3, 426, 1080, 2152, 812, 72, 1, 2, 2, 1156, 94, 154, 32, 1821, 41, 451, 28, 28, 941, 2, 4883, 95, 16876, 32168, 129, 21815, 15328, 90, 37, 403, 215, 44, 98, 23, 1214, 13, 14229, 12, 2000, 10, 379, 286, 87, 51, 522, 4555, 1, 853, 59, 5, 3, 2817, 485, 9067, 1408, 31, 1, 21, 108, 15, 291, 201, 2, 4117, 1, 676, 908, 3, 1, 1405, 3001, 73, 114, 105, 28, 5881, 2545, 317, 2, 918, 10, 8714, 245, 1363, 260, 78, 2972, 9, 48, 319, 1551, 301, 46380, 15108, 5, 7, 414, 20284, 29, 734, 32, 19, 69, 101, 8, 5, 405, 97, 197, 233, 57, 23, 12, 417, 1, 23, 6, 20, 581, 92, 4042, 1007, 14508, 300, 9373, 1, 211, 761, 1020, 8, 2, 1464, 49, 47, 6521, 45, 4, 31, 5, 32, 90, 26, 464, 54, 9, 138, 121, 817, 7997, 235, 376, 5, 96, 87, 12758, 1002, 367, 216, 277, 44, 24, 203, 2777, 561, 39, 2432, 1151, 1, 248, 778, 121, 51, 271, 151, 28, 14884, 223, 16, 104, 7648, 178, 280, 252, 63, 73, 3026, 599, 305, 1078, 304, 18975, 4, 210, 195, 606, 1031, 874, 171, 517, 1, 3059], \"yaxis\": \"y\"}],\n",
              "                        {\"barmode\": \"relative\", \"legend\": {\"tracegroupgap\": 0}, \"margin\": {\"t\": 60}, \"template\": {\"data\": {\"bar\": [{\"error_x\": {\"color\": \"#2a3f5f\"}, \"error_y\": {\"color\": \"#2a3f5f\"}, \"marker\": {\"line\": {\"color\": \"#E5ECF6\", \"width\": 0.5}}, \"type\": \"bar\"}], \"barpolar\": [{\"marker\": {\"line\": {\"color\": \"#E5ECF6\", \"width\": 0.5}}, \"type\": \"barpolar\"}], \"carpet\": [{\"aaxis\": {\"endlinecolor\": \"#2a3f5f\", \"gridcolor\": \"white\", \"linecolor\": \"white\", \"minorgridcolor\": \"white\", \"startlinecolor\": \"#2a3f5f\"}, \"baxis\": {\"endlinecolor\": \"#2a3f5f\", \"gridcolor\": \"white\", \"linecolor\": \"white\", \"minorgridcolor\": \"white\", \"startlinecolor\": \"#2a3f5f\"}, \"type\": \"carpet\"}], \"choropleth\": [{\"colorbar\": {\"outlinewidth\": 0, \"ticks\": \"\"}, \"type\": \"choropleth\"}], \"contour\": [{\"colorbar\": {\"outlinewidth\": 0, \"ticks\": \"\"}, \"colorscale\": [[0.0, \"#0d0887\"], [0.1111111111111111, \"#46039f\"], [0.2222222222222222, \"#7201a8\"], [0.3333333333333333, \"#9c179e\"], [0.4444444444444444, \"#bd3786\"], [0.5555555555555556, \"#d8576b\"], [0.6666666666666666, \"#ed7953\"], [0.7777777777777778, \"#fb9f3a\"], [0.8888888888888888, \"#fdca26\"], [1.0, \"#f0f921\"]], \"type\": \"contour\"}], \"contourcarpet\": [{\"colorbar\": {\"outlinewidth\": 0, \"ticks\": \"\"}, \"type\": \"contourcarpet\"}], \"heatmap\": [{\"colorbar\": {\"outlinewidth\": 0, \"ticks\": \"\"}, \"colorscale\": [[0.0, \"#0d0887\"], [0.1111111111111111, \"#46039f\"], [0.2222222222222222, \"#7201a8\"], [0.3333333333333333, \"#9c179e\"], [0.4444444444444444, \"#bd3786\"], [0.5555555555555556, \"#d8576b\"], [0.6666666666666666, \"#ed7953\"], [0.7777777777777778, \"#fb9f3a\"], [0.8888888888888888, \"#fdca26\"], [1.0, \"#f0f921\"]], \"type\": \"heatmap\"}], \"heatmapgl\": [{\"colorbar\": {\"outlinewidth\": 0, \"ticks\": \"\"}, \"colorscale\": [[0.0, \"#0d0887\"], [0.1111111111111111, \"#46039f\"], [0.2222222222222222, \"#7201a8\"], [0.3333333333333333, \"#9c179e\"], [0.4444444444444444, \"#bd3786\"], [0.5555555555555556, \"#d8576b\"], [0.6666666666666666, \"#ed7953\"], [0.7777777777777778, \"#fb9f3a\"], [0.8888888888888888, \"#fdca26\"], [1.0, \"#f0f921\"]], \"type\": \"heatmapgl\"}], \"histogram\": [{\"marker\": {\"colorbar\": {\"outlinewidth\": 0, \"ticks\": \"\"}}, \"type\": \"histogram\"}], \"histogram2d\": [{\"colorbar\": {\"outlinewidth\": 0, \"ticks\": \"\"}, \"colorscale\": [[0.0, \"#0d0887\"], [0.1111111111111111, \"#46039f\"], [0.2222222222222222, \"#7201a8\"], [0.3333333333333333, \"#9c179e\"], [0.4444444444444444, \"#bd3786\"], [0.5555555555555556, \"#d8576b\"], [0.6666666666666666, \"#ed7953\"], [0.7777777777777778, \"#fb9f3a\"], [0.8888888888888888, \"#fdca26\"], [1.0, \"#f0f921\"]], \"type\": \"histogram2d\"}], \"histogram2dcontour\": [{\"colorbar\": {\"outlinewidth\": 0, \"ticks\": \"\"}, \"colorscale\": [[0.0, \"#0d0887\"], [0.1111111111111111, \"#46039f\"], [0.2222222222222222, \"#7201a8\"], [0.3333333333333333, \"#9c179e\"], [0.4444444444444444, \"#bd3786\"], [0.5555555555555556, \"#d8576b\"], [0.6666666666666666, \"#ed7953\"], [0.7777777777777778, \"#fb9f3a\"], [0.8888888888888888, \"#fdca26\"], [1.0, \"#f0f921\"]], \"type\": \"histogram2dcontour\"}], \"mesh3d\": [{\"colorbar\": {\"outlinewidth\": 0, \"ticks\": \"\"}, \"type\": \"mesh3d\"}], \"parcoords\": [{\"line\": {\"colorbar\": {\"outlinewidth\": 0, \"ticks\": \"\"}}, \"type\": \"parcoords\"}], \"pie\": [{\"automargin\": true, \"type\": \"pie\"}], \"scatter\": [{\"marker\": {\"colorbar\": {\"outlinewidth\": 0, \"ticks\": \"\"}}, \"type\": \"scatter\"}], \"scatter3d\": [{\"line\": {\"colorbar\": {\"outlinewidth\": 0, \"ticks\": \"\"}}, \"marker\": {\"colorbar\": {\"outlinewidth\": 0, \"ticks\": \"\"}}, \"type\": \"scatter3d\"}], \"scattercarpet\": [{\"marker\": {\"colorbar\": {\"outlinewidth\": 0, \"ticks\": \"\"}}, \"type\": \"scattercarpet\"}], \"scattergeo\": [{\"marker\": {\"colorbar\": {\"outlinewidth\": 0, \"ticks\": \"\"}}, \"type\": \"scattergeo\"}], \"scattergl\": [{\"marker\": {\"colorbar\": {\"outlinewidth\": 0, \"ticks\": \"\"}}, \"type\": \"scattergl\"}], \"scattermapbox\": [{\"marker\": {\"colorbar\": {\"outlinewidth\": 0, \"ticks\": \"\"}}, \"type\": \"scattermapbox\"}], \"scatterpolar\": [{\"marker\": {\"colorbar\": {\"outlinewidth\": 0, \"ticks\": \"\"}}, \"type\": \"scatterpolar\"}], \"scatterpolargl\": [{\"marker\": {\"colorbar\": {\"outlinewidth\": 0, \"ticks\": \"\"}}, \"type\": \"scatterpolargl\"}], \"scatterternary\": [{\"marker\": {\"colorbar\": {\"outlinewidth\": 0, \"ticks\": \"\"}}, \"type\": \"scatterternary\"}], \"surface\": [{\"colorbar\": {\"outlinewidth\": 0, \"ticks\": \"\"}, \"colorscale\": [[0.0, \"#0d0887\"], [0.1111111111111111, \"#46039f\"], [0.2222222222222222, \"#7201a8\"], [0.3333333333333333, \"#9c179e\"], [0.4444444444444444, \"#bd3786\"], [0.5555555555555556, \"#d8576b\"], [0.6666666666666666, \"#ed7953\"], [0.7777777777777778, \"#fb9f3a\"], [0.8888888888888888, \"#fdca26\"], [1.0, \"#f0f921\"]], \"type\": \"surface\"}], \"table\": [{\"cells\": {\"fill\": {\"color\": \"#EBF0F8\"}, \"line\": {\"color\": \"white\"}}, \"header\": {\"fill\": {\"color\": \"#C8D4E3\"}, \"line\": {\"color\": \"white\"}}, \"type\": \"table\"}]}, \"layout\": {\"annotationdefaults\": {\"arrowcolor\": \"#2a3f5f\", \"arrowhead\": 0, \"arrowwidth\": 1}, \"coloraxis\": {\"colorbar\": {\"outlinewidth\": 0, \"ticks\": \"\"}}, \"colorscale\": {\"diverging\": [[0, \"#8e0152\"], [0.1, \"#c51b7d\"], [0.2, \"#de77ae\"], [0.3, \"#f1b6da\"], [0.4, \"#fde0ef\"], [0.5, \"#f7f7f7\"], [0.6, \"#e6f5d0\"], [0.7, \"#b8e186\"], [0.8, \"#7fbc41\"], [0.9, \"#4d9221\"], [1, \"#276419\"]], \"sequential\": [[0.0, \"#0d0887\"], [0.1111111111111111, \"#46039f\"], [0.2222222222222222, \"#7201a8\"], [0.3333333333333333, \"#9c179e\"], [0.4444444444444444, \"#bd3786\"], [0.5555555555555556, \"#d8576b\"], [0.6666666666666666, \"#ed7953\"], [0.7777777777777778, \"#fb9f3a\"], [0.8888888888888888, \"#fdca26\"], [1.0, \"#f0f921\"]], \"sequentialminus\": [[0.0, \"#0d0887\"], [0.1111111111111111, \"#46039f\"], [0.2222222222222222, \"#7201a8\"], [0.3333333333333333, \"#9c179e\"], [0.4444444444444444, \"#bd3786\"], [0.5555555555555556, \"#d8576b\"], [0.6666666666666666, \"#ed7953\"], [0.7777777777777778, \"#fb9f3a\"], [0.8888888888888888, \"#fdca26\"], [1.0, \"#f0f921\"]]}, \"colorway\": [\"#636efa\", \"#EF553B\", \"#00cc96\", \"#ab63fa\", \"#FFA15A\", \"#19d3f3\", \"#FF6692\", \"#B6E880\", \"#FF97FF\", \"#FECB52\"], \"font\": {\"color\": \"#2a3f5f\"}, \"geo\": {\"bgcolor\": \"white\", \"lakecolor\": \"white\", \"landcolor\": \"#E5ECF6\", \"showlakes\": true, \"showland\": true, \"subunitcolor\": \"white\"}, \"hoverlabel\": {\"align\": \"left\"}, \"hovermode\": \"closest\", \"mapbox\": {\"style\": \"light\"}, \"paper_bgcolor\": \"white\", \"plot_bgcolor\": \"#E5ECF6\", \"polar\": {\"angularaxis\": {\"gridcolor\": \"white\", \"linecolor\": \"white\", \"ticks\": \"\"}, \"bgcolor\": \"#E5ECF6\", \"radialaxis\": {\"gridcolor\": \"white\", \"linecolor\": \"white\", \"ticks\": \"\"}}, \"scene\": {\"xaxis\": {\"backgroundcolor\": \"#E5ECF6\", \"gridcolor\": \"white\", \"gridwidth\": 2, \"linecolor\": \"white\", \"showbackground\": true, \"ticks\": \"\", \"zerolinecolor\": \"white\"}, \"yaxis\": {\"backgroundcolor\": \"#E5ECF6\", \"gridcolor\": \"white\", \"gridwidth\": 2, \"linecolor\": \"white\", \"showbackground\": true, \"ticks\": \"\", \"zerolinecolor\": \"white\"}, \"zaxis\": {\"backgroundcolor\": \"#E5ECF6\", \"gridcolor\": \"white\", \"gridwidth\": 2, \"linecolor\": \"white\", \"showbackground\": true, \"ticks\": \"\", \"zerolinecolor\": \"white\"}}, \"shapedefaults\": {\"line\": {\"color\": \"#2a3f5f\"}}, \"ternary\": {\"aaxis\": {\"gridcolor\": \"white\", \"linecolor\": \"white\", \"ticks\": \"\"}, \"baxis\": {\"gridcolor\": \"white\", \"linecolor\": \"white\", \"ticks\": \"\"}, \"bgcolor\": \"#E5ECF6\", \"caxis\": {\"gridcolor\": \"white\", \"linecolor\": \"white\", \"ticks\": \"\"}}, \"title\": {\"x\": 0.05}, \"xaxis\": {\"automargin\": true, \"gridcolor\": \"white\", \"linecolor\": \"white\", \"ticks\": \"\", \"title\": {\"standoff\": 15}, \"zerolinecolor\": \"white\", \"zerolinewidth\": 2}, \"yaxis\": {\"automargin\": true, \"gridcolor\": \"white\", \"linecolor\": \"white\", \"ticks\": \"\", \"title\": {\"standoff\": 15}, \"zerolinecolor\": \"white\", \"zerolinewidth\": 2}}}, \"xaxis\": {\"anchor\": \"y\", \"domain\": [0.0, 1.0], \"title\": {\"text\": \"x\"}}, \"yaxis\": {\"anchor\": \"x\", \"domain\": [0.0, 1.0], \"title\": {\"text\": \"name\"}}},\n",
              "                        {\"responsive\": true}\n",
              "                    ).then(function(){\n",
              "                            \n",
              "var gd = document.getElementById('80bdb737-0c17-43e9-96c9-d8660bde5618');\n",
              "var x = new MutationObserver(function (mutations, observer) {{\n",
              "        var display = window.getComputedStyle(gd).display;\n",
              "        if (!display || display === 'none') {{\n",
              "            console.log([gd, 'removed!']);\n",
              "            Plotly.purge(gd);\n",
              "            observer.disconnect();\n",
              "        }}\n",
              "}});\n",
              "\n",
              "// Listen for the removal of the full notebook cells\n",
              "var notebookContainer = gd.closest('#notebook-container');\n",
              "if (notebookContainer) {{\n",
              "    x.observe(notebookContainer, {childList: true});\n",
              "}}\n",
              "\n",
              "// Listen for the clearing of the current output cell\n",
              "var outputEl = gd.closest('.output');\n",
              "if (outputEl) {{\n",
              "    x.observe(outputEl, {childList: true});\n",
              "}}\n",
              "\n",
              "                        })\n",
              "                };\n",
              "                \n",
              "            </script>\n",
              "        </div>\n",
              "</body>\n",
              "</html>"
            ]
          },
          "metadata": {
            "tags": []
          }
        }
      ]
    },
    {
      "cell_type": "markdown",
      "metadata": {
        "id": "DzvP30Rm7one"
      },
      "source": [
        "## 결측치 채우기"
      ]
    },
    {
      "cell_type": "code",
      "metadata": {
        "id": "qkERMFHbZHZw"
      },
      "source": [
        "mercari['brand_name'] = mercari['brand_name'].fillna(value = 'Ohter_Null')\n",
        "mercari['category_name'] = mercari['category_name'].fillna(value = 'Ohter_Null')\n",
        "mercari['item_description'] = mercari['item_description'].fillna(value = 'Ohter_Null')"
      ],
      "execution_count": null,
      "outputs": []
    },
    {
      "cell_type": "code",
      "metadata": {
        "colab": {
          "base_uri": "https://localhost:8080/"
        },
        "id": "xezfCR-g76ve",
        "outputId": "3ecbe955-17b3-4330-cc6e-5f86a5e8374b"
      },
      "source": [
        "mercari.isna().sum()"
      ],
      "execution_count": null,
      "outputs": [
        {
          "output_type": "execute_result",
          "data": {
            "text/plain": [
              "train_id             0\n",
              "name                 0\n",
              "item_condition_id    0\n",
              "category_name        0\n",
              "brand_name           0\n",
              "price                0\n",
              "shipping             0\n",
              "item_description     0\n",
              "cat_dae              0\n",
              "cat_jung             0\n",
              "cat_so               0\n",
              "dtype: int64"
            ]
          },
          "metadata": {
            "tags": []
          },
          "execution_count": 27
        }
      ]
    },
    {
      "cell_type": "markdown",
      "metadata": {
        "id": "r5MqrYzo8L7m"
      },
      "source": [
        "## brand_name, name"
      ]
    },
    {
      "cell_type": "code",
      "metadata": {
        "colab": {
          "base_uri": "https://localhost:8080/"
        },
        "id": "6JU8WnJw78x1",
        "outputId": "d80aee68-8be2-4521-ea9a-f9151e630df4"
      },
      "source": [
        "print('brand_name의 유형건수 : ', len(set(mercari['brand_name'])))\n",
        "print('brand_name sample : ', mercari['brand_name'].value_counts()[:5])"
      ],
      "execution_count": null,
      "outputs": [
        {
          "output_type": "stream",
          "text": [
            "brand_name의 유형건수 :  4810\n",
            "brand_name sample :  Ohter_Null           632682\n",
            "PINK                  54088\n",
            "Nike                  54043\n",
            "Victoria's Secret     48036\n",
            "LuLaRoe               31024\n",
            "Name: brand_name, dtype: int64\n"
          ],
          "name": "stdout"
        }
      ]
    },
    {
      "cell_type": "code",
      "metadata": {
        "colab": {
          "base_uri": "https://localhost:8080/"
        },
        "id": "czlhBy218ZL-",
        "outputId": "23f3fdba-b584-478a-e6d2-372442e6ca25"
      },
      "source": [
        "print('name의 유형건수 : ', len(set(mercari['name'])))\n",
        "print('name sample : ', mercari['name'][:5])"
      ],
      "execution_count": null,
      "outputs": [
        {
          "output_type": "stream",
          "text": [
            "name의 유형건수 :  1225273\n",
            "name sample :  0    MLB Cincinnati Reds T Shirt Size XL\n",
            "1       Razer BlackWidow Chroma Keyboard\n",
            "2                         AVA-VIV Blouse\n",
            "3                  Leather Horse Statues\n",
            "4                   24K GOLD plated rose\n",
            "Name: name, dtype: object\n"
          ],
          "name": "stdout"
        }
      ]
    },
    {
      "cell_type": "code",
      "metadata": {
        "colab": {
          "base_uri": "https://localhost:8080/"
        },
        "id": "a_fX_SdT94wo",
        "outputId": "ad6cb3f8-613d-431d-f6bc-409903cda46a"
      },
      "source": [
        "CV = CountVectorizer()\n",
        "name = CV.fit_transform(mercari.name)\n",
        "print(name.shape)"
      ],
      "execution_count": null,
      "outputs": [
        {
          "output_type": "stream",
          "text": [
            "(1482535, 105757)\n"
          ],
          "name": "stdout"
        }
      ]
    },
    {
      "cell_type": "markdown",
      "metadata": {
        "id": "GI7mOpOp9gMm"
      },
      "source": [
        "## item_description"
      ]
    },
    {
      "cell_type": "code",
      "metadata": {
        "colab": {
          "base_uri": "https://localhost:8080/"
        },
        "id": "SRwhOPBK9OVO",
        "outputId": "8c0dcf8b-56e5-45f2-ff36-499c9cb7b783"
      },
      "source": [
        "print('item_description 평균 문자열 갯수 : ', mercari['item_description'].str.len().mean())\n",
        "mercari['item_description'][:2]"
      ],
      "execution_count": null,
      "outputs": [
        {
          "output_type": "stream",
          "text": [
            "item_description 평균 문자열 갯수 :  145.7113889385411\n"
          ],
          "name": "stdout"
        },
        {
          "output_type": "execute_result",
          "data": {
            "text/plain": [
              "0                                   No description yet\n",
              "1    This keyboard is in great condition and works ...\n",
              "Name: item_description, dtype: object"
            ]
          },
          "metadata": {
            "tags": []
          },
          "execution_count": 31
        }
      ]
    },
    {
      "cell_type": "code",
      "metadata": {
        "colab": {
          "base_uri": "https://localhost:8080/"
        },
        "id": "y6RCYznL9phY",
        "outputId": "69074184-d27b-4bfe-9ae2-79ef6c9ab03f"
      },
      "source": [
        "TF = TfidfVectorizer(max_features = 50000, ngram_range = (1, 3), stop_words = 'english')\n",
        "description = TF.fit_transform(mercari.item_description)\n",
        "print(description.shape)"
      ],
      "execution_count": null,
      "outputs": [
        {
          "output_type": "stream",
          "text": [
            "(1482535, 50000)\n"
          ],
          "name": "stdout"
        }
      ]
    },
    {
      "cell_type": "markdown",
      "metadata": {
        "id": "sCqjKsZa-Tv2"
      },
      "source": [
        "## 원핫 인코딩"
      ]
    },
    {
      "cell_type": "code",
      "metadata": {
        "id": "0E1ILj9S-O-X"
      },
      "source": [
        "from sklearn.preprocessing import LabelBinarizer\n",
        "\n",
        "LB = LabelBinarizer(sparse_output = True)\n",
        "\n",
        "brand = LB.fit_transform(mercari['brand_name'])\n",
        "condition = LB.fit_transform(mercari['item_condition_id'])\n",
        "shipping = LB.fit_transform(mercari['shipping'])\n",
        "cat_dae = LB.fit_transform(mercari['cat_dae'])\n",
        "cat_jung = LB.fit_transform(mercari['cat_jung'])\n",
        "cat_so = LB.fit_transform(mercari['cat_so'])"
      ],
      "execution_count": null,
      "outputs": []
    },
    {
      "cell_type": "code",
      "metadata": {
        "colab": {
          "base_uri": "https://localhost:8080/"
        },
        "id": "Ehj990Rh-xAH",
        "outputId": "49a78141-308c-45a7-cf23-57ae4ca7d764"
      },
      "source": [
        "from scipy.sparse import hstack\n",
        "import gc\n",
        "\n",
        "sparse_matrix_list = (name, description, brand, condition, shipping, cat_dae, cat_jung, cat_so)\n",
        "X_feature_sparse = hstack(sparse_matrix_list).tocsr()\n",
        "print(type(X_feature_sparse), X_feature_sparse.shape)\n",
        "\n",
        "# 데이터 셋이 메모리를 많이 차지하므로 사용 용도가 끝났으면 바로 메모리에서 삭제.\n",
        "del X_feature_sparse\n",
        "gc.collect()"
      ],
      "execution_count": null,
      "outputs": [
        {
          "output_type": "stream",
          "text": [
            "<class 'scipy.sparse.csr.csr_matrix'> (1482535, 161569)\n"
          ],
          "name": "stdout"
        },
        {
          "output_type": "execute_result",
          "data": {
            "text/plain": [
              "31062"
            ]
          },
          "metadata": {
            "tags": []
          },
          "execution_count": 35
        }
      ]
    },
    {
      "cell_type": "markdown",
      "metadata": {
        "id": "l_qPIIN-EBmf"
      },
      "source": [
        "## 릿지 회귀 모델 구축 및 평가"
      ]
    },
    {
      "cell_type": "code",
      "metadata": {
        "id": "ks_2ly9mDP8A"
      },
      "source": [
        "def rmsle(y , y_pred):\n",
        "    # underflow, overflow를 막기 위해 log가 아닌 log1p로 rmsle 계산 \n",
        "    return np.sqrt(np.mean(np.power(np.log1p(y) - np.log1p(y_pred), 2)))\n",
        "\n",
        "def evaluate_org_price(y_test , preds): \n",
        "    \n",
        "    # 원본 데이터는 log1p로 변환되었으므로 exmpm1으로 원복 필요. \n",
        "    preds_exmpm = np.expm1(preds)\n",
        "    y_test_exmpm = np.expm1(y_test)\n",
        "    \n",
        "    # rmsle로 RMSLE 값 추출\n",
        "    rmsle_result = rmsle(y_test_exmpm, preds_exmpm)\n",
        "    return rmsle_result"
      ],
      "execution_count": null,
      "outputs": []
    },
    {
      "cell_type": "code",
      "metadata": {
        "id": "b67YzjsRDrHA"
      },
      "source": [
        "import gc \n",
        "from  scipy.sparse import hstack\n",
        "\n",
        "def model_train_predict(model,matrix_list):\n",
        "    # scipy.sparse 모듈의 hstack 을 이용하여 sparse matrix 결합\n",
        "    X= hstack(matrix_list).tocsr()     \n",
        "    \n",
        "    X_train, X_test, y_train, y_test=train_test_split(X, mercari['price'], \n",
        "                                                      test_size=0.2, random_state=156)\n",
        "    \n",
        "    # 모델 학습 및 예측\n",
        "    model.fit(X_train , y_train)\n",
        "    preds = model.predict(X_test)\n",
        "    \n",
        "    del X , X_train , X_test , y_train \n",
        "    gc.collect()\n",
        "    \n",
        "    return preds , y_test"
      ],
      "execution_count": null,
      "outputs": []
    },
    {
      "cell_type": "code",
      "metadata": {
        "colab": {
          "base_uri": "https://localhost:8080/"
        },
        "id": "d2xs5kKsEfKa",
        "outputId": "dda02c14-98de-433f-a5a4-28014d8e3588"
      },
      "source": [
        "linear_model = Ridge(solver = 'lsqr', fit_intercept = False)\n",
        "sparse_matrix_list = (name, description, brand, condition, shipping, cat_dae, cat_jung, cat_so)\n",
        "linear_preds, y_test = model_train_predict(model = linear_model, matrix_list = sparse_matrix_list)\n",
        "print('rmsle : ', evaluate_org_price(y_test, linear_preds))"
      ],
      "execution_count": null,
      "outputs": [
        {
          "output_type": "stream",
          "text": [
            "rmsle :  0.471222915661763\n"
          ],
          "name": "stdout"
        }
      ]
    },
    {
      "cell_type": "code",
      "metadata": {
        "colab": {
          "base_uri": "https://localhost:8080/"
        },
        "id": "KbkAaVF-FA5Q",
        "outputId": "54b468b7-181e-4c85-cf64-7eac23a0744d"
      },
      "source": [
        "from lightgbm import LGBMRegressor\n",
        "\n",
        "sparse_matrix_list = (name, description, brand, condition, shipping, cat_dae, cat_jung, cat_so)\n",
        "\n",
        "lgb = LGBMRegressor(n_estimators = 200, learning_rate = 0.5, num_leaves = 125, random_state = 156)\n",
        "lgbm_preds, y_test = model_train_predict(model = lgb, matrix_list = sparse_matrix_list)\n",
        "print('LightGBM rmsle : ', evaluate_org_price(y_test, lgbm_preds))"
      ],
      "execution_count": null,
      "outputs": [
        {
          "output_type": "stream",
          "text": [
            "LightGBM rmsle :  0.45795650650262837\n"
          ],
          "name": "stdout"
        }
      ]
    },
    {
      "cell_type": "code",
      "metadata": {
        "id": "Ih7NCjP2IeQJ",
        "colab": {
          "base_uri": "https://localhost:8080/"
        },
        "outputId": "65cb00b5-4a0d-4167-b1ce-36a3a1121368"
      },
      "source": [
        "preds = lgbm_preds * 0.45 + linear_preds * 0.55\n",
        "print('LightGBM과 Ridge를 ensemble한 최종 rmsle 값:',  evaluate_org_price(y_test , preds))"
      ],
      "execution_count": null,
      "outputs": [
        {
          "output_type": "stream",
          "text": [
            "LightGBM과 Ridge를 ensemble한 최종 rmsle 값: 0.4509324141140827\n"
          ],
          "name": "stdout"
        }
      ]
    },
    {
      "cell_type": "code",
      "metadata": {
        "id": "jrmfdyDW_8ew"
      },
      "source": [
        ""
      ],
      "execution_count": null,
      "outputs": []
    }
  ]
}